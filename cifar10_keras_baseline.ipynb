{
  "nbformat": 4,
  "nbformat_minor": 0,
  "metadata": {
    "colab": {
      "name": "cifar10_keras_baseline.ipynb",
      "provenance": [],
      "authorship_tag": "ABX9TyO8rZw9QNEsHBFLhDghkYdY",
      "include_colab_link": true
    },
    "kernelspec": {
      "name": "python3",
      "display_name": "Python 3"
    }
  },
  "cells": [
    {
      "cell_type": "markdown",
      "metadata": {
        "id": "view-in-github",
        "colab_type": "text"
      },
      "source": [
        "<a href=\"https://colab.research.google.com/github/ujs/cifar10/blob/master/cifar10_keras_baseline.ipynb\" target=\"_parent\"><img src=\"https://colab.research.google.com/assets/colab-badge.svg\" alt=\"Open In Colab\"/></a>"
      ]
    },
    {
      "cell_type": "markdown",
      "metadata": {
        "id": "XRCek7J_YvYn",
        "colab_type": "text"
      },
      "source": [
        "\n",
        "Different models that will be implemented in this notebook\n",
        "*   model1- Baseline - VGG 3  (visual geometry group)\n",
        "*   model2- Baseline + Regularization (dropout + weight decay)\n",
        "\n"
      ]
    },
    {
      "cell_type": "code",
      "metadata": {
        "id": "KUqyGHrvuJZZ",
        "colab_type": "code",
        "colab": {
          "base_uri": "https://localhost:8080/",
          "height": 80
        },
        "outputId": "122a555e-dbda-4430-cd4d-2ca7f00d6c94"
      },
      "source": [
        "#Importing libraries\n",
        "from matplotlib import pyplot as plt\n",
        "import pandas as pd\n",
        "from keras import layers\n",
        "from keras import models\n",
        "from keras.utils import to_categorical\n",
        "from keras.preprocessing.image import ImageDataGenerator\n",
        "from sklearn.model_selection import train_test_split\n",
        "from keras.optimizers import SGD\n",
        "from keras import regularizers"
      ],
      "execution_count": 1,
      "outputs": [
        {
          "output_type": "stream",
          "text": [
            "Using TensorFlow backend.\n"
          ],
          "name": "stderr"
        },
        {
          "output_type": "display_data",
          "data": {
            "text/html": [
              "<p style=\"color: red;\">\n",
              "The default version of TensorFlow in Colab will switch to TensorFlow 2.x on the 27th of March, 2020.<br>\n",
              "We recommend you <a href=\"https://www.tensorflow.org/guide/migrate\" target=\"_blank\">upgrade</a> now\n",
              "or ensure your notebook will continue to use TensorFlow 1.x via the <code>%tensorflow_version 1.x</code> magic:\n",
              "<a href=\"https://colab.research.google.com/notebooks/tensorflow_version.ipynb\" target=\"_blank\">more info</a>.</p>\n"
            ],
            "text/plain": [
              "<IPython.core.display.HTML object>"
            ]
          },
          "metadata": {
            "tags": []
          }
        }
      ]
    },
    {
      "cell_type": "code",
      "metadata": {
        "id": "gn1lxwFZYztG",
        "colab_type": "code",
        "outputId": "f8bf93f6-c0f4-4042-cff3-788da01fb445",
        "colab": {
          "base_uri": "https://localhost:8080/",
          "height": 51
        }
      },
      "source": [
        "\n",
        "\n",
        "#importing data\n",
        "from keras.datasets import cifar10\n",
        "\n",
        "#load data\n",
        "(x, y),(x_test, y_test) = cifar10.load_data()"
      ],
      "execution_count": 2,
      "outputs": [
        {
          "output_type": "stream",
          "text": [
            "Downloading data from https://www.cs.toronto.edu/~kriz/cifar-10-python.tar.gz\n",
            "170500096/170498071 [==============================] - 2s 0us/step\n"
          ],
          "name": "stdout"
        }
      ]
    },
    {
      "cell_type": "code",
      "metadata": {
        "id": "yCHn8YfftMfZ",
        "colab_type": "code",
        "outputId": "b2084f3c-136e-42bc-ea8c-3e4f236711a2",
        "colab": {
          "base_uri": "https://localhost:8080/",
          "height": 85
        }
      },
      "source": [
        "#examine shape of data\n",
        "print (x.shape)\n",
        "print (x_test.shape)\n",
        "print (y.shape)\n",
        "print (y_test.shape)"
      ],
      "execution_count": 3,
      "outputs": [
        {
          "output_type": "stream",
          "text": [
            "(50000, 32, 32, 3)\n",
            "(10000, 32, 32, 3)\n",
            "(50000, 1)\n",
            "(10000, 1)\n"
          ],
          "name": "stdout"
        }
      ]
    },
    {
      "cell_type": "code",
      "metadata": {
        "id": "X3AxGwMQtiAd",
        "colab_type": "code",
        "outputId": "a4e54fe8-8f84-4205-abfb-5730dc472b39",
        "colab": {
          "base_uri": "https://localhost:8080/",
          "height": 192
        }
      },
      "source": [
        "#See a few images in the data set\n",
        "for i in range(6):\n",
        "  plt.subplot(330 + 1 + i)\n",
        "  plt.imshow(x[i])\n",
        "plt.show()"
      ],
      "execution_count": 4,
      "outputs": [
        {
          "output_type": "display_data",
          "data": {
            "image/png": "[encoded data removed]",
            "text/plain": [
              "<Figure size 432x288 with 6 Axes>"
            ]
          },
          "metadata": {
            "tags": []
          }
        }
      ]
    },
    {
      "cell_type": "code",
      "metadata": {
        "id": "4Mu0eskBwpdx",
        "colab_type": "code",
        "colab": {}
      },
      "source": [
        "#Splitting x,y data into train and validation data\n",
        "x_train, x_val, y_train, y_val = train_test_split(x, y, test_size=0.2, random_state=1)\n",
        "\n"
      ],
      "execution_count": 0,
      "outputs": []
    },
    {
      "cell_type": "code",
      "metadata": {
        "id": "cq53JkQXyZKO",
        "colab_type": "code",
        "colab": {
          "base_uri": "https://localhost:8080/",
          "height": 51
        },
        "outputId": "5a771377-24f3-4381-c994-186a496b650e"
      },
      "source": [
        "\n",
        "print(x_train.shape)\n",
        "print(x_val.shape)"
      ],
      "execution_count": 70,
      "outputs": [
        {
          "output_type": "stream",
          "text": [
            "(40000, 32, 32, 3)\n",
            "(10000, 32, 32, 3)\n"
          ],
          "name": "stdout"
        }
      ]
    },
    {
      "cell_type": "code",
      "metadata": {
        "id": "eW5nUPZgt1DB",
        "colab_type": "code",
        "colab": {}
      },
      "source": [
        "#Data Preprocessing\n",
        "\n",
        "#one-hot encode target values\n",
        "y_train = to_categorical(y_train)\n",
        "y_val = to_categorical(y_val)\n",
        "y_test = to_categorical(y_test)\n",
        "\n",
        "\n",
        "#Rescaling images \n",
        "\n",
        "train_datagen = ImageDataGenerator (rescale = 1./255)\n",
        "val_datagen = ImageDataGenerator (rescale = 1./255)\n",
        "test_datagen = ImageDataGenerator (rescale = 1./255)\n",
        "\n",
        "train_generator = train_datagen.flow(x_train, y_train,batch_size = 64)\n",
        "val_generator = val_datagen.flow(x_val, y_val)\n",
        "\n"
      ],
      "execution_count": 0,
      "outputs": []
    },
    {
      "cell_type": "code",
      "metadata": {
        "id": "Vgy2EshewoGY",
        "colab_type": "code",
        "colab": {
          "base_uri": "https://localhost:8080/",
          "height": 765
        },
        "outputId": "a86efb1f-c94a-4580-f04f-95159f575c62"
      },
      "source": [
        "# model1- baseline VGG 3\n",
        "def baseline():\n",
        "  model = models.Sequential()\n",
        "  model.add(layers.Conv2D(32, (3, 3), activation ='relu', kernel_initializer='he_uniform', padding = 'same', input_shape=(32, 32, 3)))\n",
        "  model.add(layers.Conv2D(32, (3, 3), activation='relu', kernel_initializer='he_uniform', padding = 'same'))\n",
        "  model.add(layers.MaxPooling2D((2, 2)))\n",
        "  model.add(layers.Conv2D(64, (3, 3), activation='relu', kernel_initializer='he_uniform', padding = 'same'))\n",
        "  model.add(layers.Conv2D(64, (3, 3), activation='relu', kernel_initializer='he_uniform', padding = 'same'))\n",
        "  model.add(layers.MaxPooling2D((2, 2)))\n",
        "  model.add(layers.Conv2D(128, (3, 3), activation='relu', kernel_initializer='he_uniform', padding = 'same'))\n",
        "  model.add(layers.Conv2D(128, (3, 3), activation='relu', kernel_initializer='he_uniform', padding = 'same'))\n",
        "  model.add(layers.MaxPooling2D((2, 2)))\n",
        "  model.add(layers.Flatten())\n",
        "  model.add(layers.Dense(128, activation='relu', kernel_initializer='he_uniform'))\n",
        "  model.add(layers.Dense(10, activation='softmax'))\n",
        "  # compile model\n",
        "  opt = SGD(lr=0.001, momentum=0.9)\n",
        "  model.compile(optimizer=opt, loss='categorical_crossentropy', metrics=['accuracy'])\n",
        "  return model\n",
        "\n",
        "#Instatiating model\n",
        "model1 = baseline()\n",
        "model1.summary()"
      ],
      "execution_count": 8,
      "outputs": [
        {
          "output_type": "stream",
          "text": [
            "WARNING:tensorflow:From /usr/local/lib/python3.6/dist-packages/keras/backend/tensorflow_backend.py:66: The name tf.get_default_graph is deprecated. Please use tf.compat.v1.get_default_graph instead.\n",
            "\n",
            "WARNING:tensorflow:From /usr/local/lib/python3.6/dist-packages/keras/backend/tensorflow_backend.py:541: The name tf.placeholder is deprecated. Please use tf.compat.v1.placeholder instead.\n",
            "\n",
            "WARNING:tensorflow:From /usr/local/lib/python3.6/dist-packages/keras/backend/tensorflow_backend.py:4432: The name tf.random_uniform is deprecated. Please use tf.random.uniform instead.\n",
            "\n",
            "WARNING:tensorflow:From /usr/local/lib/python3.6/dist-packages/keras/backend/tensorflow_backend.py:4267: The name tf.nn.max_pool is deprecated. Please use tf.nn.max_pool2d instead.\n",
            "\n",
            "WARNING:tensorflow:From /usr/local/lib/python3.6/dist-packages/keras/optimizers.py:793: The name tf.train.Optimizer is deprecated. Please use tf.compat.v1.train.Optimizer instead.\n",
            "\n",
            "WARNING:tensorflow:From /usr/local/lib/python3.6/dist-packages/keras/backend/tensorflow_backend.py:3576: The name tf.log is deprecated. Please use tf.math.log instead.\n",
            "\n",
            "Model: \"sequential_1\"\n",
            "_________________________________________________________________\n",
            "Layer (type)                 Output Shape              Param #   \n",
            "=================================================================\n",
            "conv2d_1 (Conv2D)            (None, 32, 32, 32)        896       \n",
            "_________________________________________________________________\n",
            "conv2d_2 (Conv2D)            (None, 32, 32, 32)        9248      \n",
            "_________________________________________________________________\n",
            "max_pooling2d_1 (MaxPooling2 (None, 16, 16, 32)        0         \n",
            "_________________________________________________________________\n",
            "conv2d_3 (Conv2D)            (None, 16, 16, 64)        18496     \n",
            "_________________________________________________________________\n",
            "conv2d_4 (Conv2D)            (None, 16, 16, 64)        36928     \n",
            "_________________________________________________________________\n",
            "max_pooling2d_2 (MaxPooling2 (None, 8, 8, 64)          0         \n",
            "_________________________________________________________________\n",
            "conv2d_5 (Conv2D)            (None, 8, 8, 128)         73856     \n",
            "_________________________________________________________________\n",
            "conv2d_6 (Conv2D)            (None, 8, 8, 128)         147584    \n",
            "_________________________________________________________________\n",
            "max_pooling2d_3 (MaxPooling2 (None, 4, 4, 128)         0         \n",
            "_________________________________________________________________\n",
            "flatten_1 (Flatten)          (None, 2048)              0         \n",
            "_________________________________________________________________\n",
            "dense_1 (Dense)              (None, 128)               262272    \n",
            "_________________________________________________________________\n",
            "dense_2 (Dense)              (None, 10)                1290      \n",
            "=================================================================\n",
            "Total params: 550,570\n",
            "Trainable params: 550,570\n",
            "Non-trainable params: 0\n",
            "_________________________________________________________________\n"
          ],
          "name": "stdout"
        }
      ]
    },
    {
      "cell_type": "code",
      "metadata": {
        "id": "9OzyvJw3xthq",
        "colab_type": "code",
        "colab": {}
      },
      "source": [
        "#Fitting baseline model\n",
        "steps = x_train.shape[0]/64\n",
        "history = model1.fit_generator(train_generator, steps_per_epoch = steps, epochs = 60, validation_data = val_generator)\n",
        "model1.save('cifar10_baseline')"
      ],
      "execution_count": 0,
      "outputs": []
    },
    {
      "cell_type": "code",
      "metadata": {
        "id": "OM23YsECYi5J",
        "colab_type": "code",
        "colab": {
          "base_uri": "https://localhost:8080/",
          "height": 34
        },
        "outputId": "b6b5fe59-e49a-48c4-d664-f0c6fb64ce76"
      },
      "source": [
        "# evaluate model\n",
        "\t_, acc = model1.evaluate(val_generator, verbose=0)\n",
        "\tprint((acc * 100.0))\n"
      ],
      "execution_count": 13,
      "outputs": [
        {
          "output_type": "stream",
          "text": [
            "71.15\n"
          ],
          "name": "stdout"
        }
      ]
    },
    {
      "cell_type": "code",
      "metadata": {
        "id": "d-vppyNri1_4",
        "colab_type": "code",
        "colab": {
          "base_uri": "https://localhost:8080/",
          "height": 298
        },
        "outputId": "0b860338-21ef-4639-871c-285b4b19149f"
      },
      "source": [
        "#Plotting \n",
        "\n",
        "#Plot loss\n",
        "plt.subplot(211)\n",
        "plt.title('cross-entropy loss')\n",
        "plt.plot(history.history['loss'],color = 'blue', label = 'train')\n",
        "plt.plot(history.history['val_loss'], color = 'red', label = 'validation')\n",
        "plt.legend()\n",
        "\n",
        "#plot accurcay\n",
        "plt.subplot(212)\n",
        "plt.title('accuracy')\n",
        "plt.plot(history.history['acc'],color = 'blue', label = 'train')\n",
        "plt.plot(history.history['val_acc'], color = 'red', label = 'validation')\n",
        "plt.legend()\n"
      ],
      "execution_count": 12,
      "outputs": [
        {
          "output_type": "execute_result",
          "data": {
            "text/plain": [
              "<matplotlib.legend.Legend at 0x7f25a8917240>"
            ]
          },
          "metadata": {
            "tags": []
          },
          "execution_count": 12
        },
        {
          "output_type": "display_data",
          "data": {
            "image/png": "[encoded data removed]",
            "text/plain": [
              "<Figure size 432x288 with 2 Axes>"
            ]
          },
          "metadata": {
            "tags": []
          }
        }
      ]
    },
    {
      "cell_type": "code",
      "metadata": {
        "id": "pEISObyuehRB",
        "colab_type": "code",
        "colab": {}
      },
      "source": [
        "# Function to try out different models\n",
        "\n",
        "def test_model(model):\n",
        "  #Instantiate model\n",
        "  model = model()\n",
        "\n",
        "  #fit model\n",
        "  steps = x_train.shape[0]/64\n",
        "  history = model.fit_generator(train_generator, steps_per_epoch = steps, epochs = 80, validation_data = val_generator)\n",
        "  model.save('cifar10_{}'.format(model))\n",
        "\n",
        "  #Plot loss\n",
        "  plt.subplot(211)\n",
        "  plt.title('cross-entropy loss')\n",
        "  plt.plot(history.history['loss'],color = 'blue', label = 'train')\n",
        "  plt.plot(history.history['val_loss'], color = 'red', label = 'validation')\n",
        "  plt.legend()\n",
        "\n",
        "  #plot accurcay\n",
        "  plt.subplot(212)\n",
        "  plt.title('accuracy')\n",
        "  plt.plot(history.history['acc'],color = 'blue', label = 'train')\n",
        "  plt.plot(history.history['val_acc'], color = 'red', label = 'validation')\n",
        "  plt.legend()\n",
        "\n",
        "  # evaluate model\n",
        "  _, acc = model.evaluate(val_generator, verbose=0)\n",
        "  print('> %.3f' % (acc * 100.0))\n",
        "  return acc\n"
      ],
      "execution_count": 0,
      "outputs": []
    },
    {
      "cell_type": "code",
      "metadata": {
        "id": "FuYH-TrtUYv3",
        "colab_type": "code",
        "colab": {
          "base_uri": "https://localhost:8080/",
          "height": 1000
        },
        "outputId": "bc9a5983-1c46-450e-e1c4-84182c041427"
      },
      "source": [
        "# model2- Baseline + Regularization (dropout + weight decay)\n",
        "def model2():\n",
        "  model = models.Sequential()\n",
        "  model.add(layers.Conv2D(32, (3, 3), activation ='relu', kernel_initializer='he_uniform', padding = 'same', kernel_regularizer=regularizers.l2(0.001), input_shape=(32, 32, 3)))\n",
        "  model.add(layers.Conv2D(32, (3, 3), activation='relu', kernel_initializer='he_uniform', padding = 'same', kernel_regularizer=regularizers.l2(0.001)))\n",
        "  model.add(layers.MaxPooling2D((2, 2)))\n",
        "  model.add(layers.Dropout(0.2))\n",
        "  model.add(layers.Conv2D(64, (3, 3), activation='relu', kernel_initializer='he_uniform', padding = 'same', kernel_regularizer=regularizers.l2(0.001)))\n",
        "  model.add(layers.Conv2D(64, (3, 3), activation='relu', kernel_initializer='he_uniform', padding = 'same', kernel_regularizer=regularizers.l2(0.001)))\n",
        "  model.add(layers.MaxPooling2D((2, 2)))\n",
        "  model.add(layers.Dropout(0.2))\n",
        "  model.add(layers.Conv2D(128, (3, 3), activation='relu', kernel_initializer='he_uniform', padding = 'same', kernel_regularizer=regularizers.l2(0.001)))\n",
        "  model.add(layers.Conv2D(128, (3, 3), activation='relu', kernel_initializer='he_uniform', padding = 'same', kernel_regularizer=regularizers.l2(0.001)))\n",
        "  model.add(layers.MaxPooling2D((2, 2)))\n",
        "  model.add(layers.Dropout(0.2))\n",
        "  model.add(layers.Flatten())\n",
        "  model.add(layers.Dense(128, activation='relu', kernel_initializer='he_uniform', kernel_regularizer=regularizers.l2(0.001)))\n",
        "  model.add(layers.Dropout(0.2))\n",
        "  model.add(layers.Dense(10, activation='softmax'))\n",
        "  # compile model\n",
        "  opt = SGD(lr=0.001, momentum=0.9)\n",
        "  model.compile(optimizer=opt, loss='categorical_crossentropy', metrics=['accuracy'])\n",
        "  return model\n",
        "\n",
        "#testing\n",
        "test_model(model2)\n",
        "\n",
        "\n"
      ],
      "execution_count": 0,
      "outputs": [
        {
          "output_type": "stream",
          "text": [
            "WARNING:tensorflow:From /usr/local/lib/python3.6/dist-packages/keras/backend/tensorflow_backend.py:148: The name tf.placeholder_with_default is deprecated. Please use tf.compat.v1.placeholder_with_default instead.\n",
            "\n",
            "WARNING:tensorflow:From /usr/local/lib/python3.6/dist-packages/keras/backend/tensorflow_backend.py:3733: calling dropout (from tensorflow.python.ops.nn_ops) with keep_prob is deprecated and will be removed in a future version.\n",
            "Instructions for updating:\n",
            "Please use `rate` instead of `keep_prob`. Rate should be set to `rate = 1 - keep_prob`.\n",
            "Epoch 1/80\n",
            "625/625 [==============================] - 321s 514ms/step - loss: 3.1571 - acc: 0.2521 - val_loss: 2.8689 - val_acc: 0.3762\n",
            "Epoch 2/80\n",
            "625/625 [==============================] - 321s 513ms/step - loss: 2.8182 - acc: 0.3669 - val_loss: 2.6586 - val_acc: 0.4290\n",
            "Epoch 3/80\n",
            "625/625 [==============================] - 319s 510ms/step - loss: 2.6456 - acc: 0.4296 - val_loss: 2.5141 - val_acc: 0.4749\n",
            "Epoch 4/80\n",
            "625/625 [==============================] - 316s 505ms/step - loss: 2.5181 - acc: 0.4665 - val_loss: 2.3908 - val_acc: 0.5240\n",
            "Epoch 5/80\n",
            "625/625 [==============================] - 315s 504ms/step - loss: 2.4135 - acc: 0.5016 - val_loss: 2.2797 - val_acc: 0.5563\n",
            "Epoch 6/80\n",
            "625/625 [==============================] - 316s 505ms/step - loss: 2.3286 - acc: 0.5274 - val_loss: 2.1910 - val_acc: 0.5845\n",
            "Epoch 7/80\n",
            "625/625 [==============================] - 316s 506ms/step - loss: 2.2559 - acc: 0.5512 - val_loss: 2.1527 - val_acc: 0.5880\n",
            "Epoch 8/80\n",
            "625/625 [==============================] - 314s 503ms/step - loss: 2.1799 - acc: 0.5702 - val_loss: 2.0976 - val_acc: 0.5981\n",
            "Epoch 9/80\n",
            "625/625 [==============================] - 316s 505ms/step - loss: 2.1101 - acc: 0.5911 - val_loss: 2.0261 - val_acc: 0.6204\n",
            "Epoch 10/80\n",
            "625/625 [==============================] - 316s 506ms/step - loss: 2.0538 - acc: 0.6036 - val_loss: 1.9353 - val_acc: 0.6459\n",
            "Epoch 11/80\n",
            "625/625 [==============================] - 316s 505ms/step - loss: 1.9952 - acc: 0.6167 - val_loss: 1.9201 - val_acc: 0.6458\n",
            "Epoch 12/80\n",
            "625/625 [==============================] - 313s 501ms/step - loss: 1.9488 - acc: 0.6280 - val_loss: 1.9117 - val_acc: 0.6379\n",
            "Epoch 13/80\n",
            "625/625 [==============================] - 314s 503ms/step - loss: 1.8936 - acc: 0.6422 - val_loss: 1.8013 - val_acc: 0.6724\n",
            "Epoch 14/80\n",
            "625/625 [==============================] - 318s 509ms/step - loss: 1.8479 - acc: 0.6511 - val_loss: 1.7381 - val_acc: 0.6938\n",
            "Epoch 15/80\n",
            "625/625 [==============================] - 318s 509ms/step - loss: 1.8012 - acc: 0.6617 - val_loss: 1.7410 - val_acc: 0.6808\n",
            "Epoch 16/80\n",
            "625/625 [==============================] - 315s 503ms/step - loss: 1.7606 - acc: 0.6703 - val_loss: 1.6913 - val_acc: 0.6949\n",
            "Epoch 17/80\n",
            "625/625 [==============================] - 314s 502ms/step - loss: 1.7196 - acc: 0.6809 - val_loss: 1.6523 - val_acc: 0.7019\n",
            "Epoch 18/80\n",
            "625/625 [==============================] - 309s 495ms/step - loss: 1.6800 - acc: 0.6914 - val_loss: 1.6016 - val_acc: 0.7188\n",
            "Epoch 19/80\n",
            "625/625 [==============================] - 311s 497ms/step - loss: 1.6477 - acc: 0.6943 - val_loss: 1.5727 - val_acc: 0.7203\n",
            "Epoch 20/80\n",
            "625/625 [==============================] - 307s 491ms/step - loss: 1.6166 - acc: 0.7016 - val_loss: 1.5389 - val_acc: 0.7278\n",
            "Epoch 21/80\n",
            "625/625 [==============================] - 308s 493ms/step - loss: 1.5814 - acc: 0.7087 - val_loss: 1.5034 - val_acc: 0.7336\n",
            "Epoch 22/80\n",
            "625/625 [==============================] - 313s 501ms/step - loss: 1.5444 - acc: 0.7183 - val_loss: 1.4816 - val_acc: 0.7370\n",
            "Epoch 23/80\n",
            "625/625 [==============================] - 313s 501ms/step - loss: 1.5200 - acc: 0.7213 - val_loss: 1.4758 - val_acc: 0.7352\n",
            "Epoch 24/80\n",
            "625/625 [==============================] - 315s 505ms/step - loss: 1.4886 - acc: 0.7258 - val_loss: 1.4365 - val_acc: 0.7402\n",
            "Epoch 25/80\n",
            "625/625 [==============================] - 315s 504ms/step - loss: 1.4603 - acc: 0.7315 - val_loss: 1.4303 - val_acc: 0.7375\n",
            "Epoch 26/80\n",
            "625/625 [==============================] - 317s 508ms/step - loss: 1.4330 - acc: 0.7400 - val_loss: 1.3992 - val_acc: 0.7479\n",
            "Epoch 27/80\n",
            "625/625 [==============================] - 314s 503ms/step - loss: 1.4048 - acc: 0.7436 - val_loss: 1.3769 - val_acc: 0.7518\n",
            "Epoch 28/80\n",
            "625/625 [==============================] - 313s 502ms/step - loss: 1.3781 - acc: 0.7475 - val_loss: 1.3321 - val_acc: 0.7640\n",
            "Epoch 29/80\n",
            "625/625 [==============================] - 305s 489ms/step - loss: 1.3559 - acc: 0.7526 - val_loss: 1.3399 - val_acc: 0.7576\n",
            "Epoch 30/80\n",
            "625/625 [==============================] - 305s 489ms/step - loss: 1.3315 - acc: 0.7581 - val_loss: 1.3017 - val_acc: 0.7661\n",
            "Epoch 31/80\n",
            "625/625 [==============================] - 311s 498ms/step - loss: 1.3098 - acc: 0.7626 - val_loss: 1.3031 - val_acc: 0.7634\n",
            "Epoch 32/80\n",
            "625/625 [==============================] - 313s 501ms/step - loss: 1.2856 - acc: 0.7652 - val_loss: 1.2934 - val_acc: 0.7662\n",
            "Epoch 33/80\n",
            "625/625 [==============================] - 314s 502ms/step - loss: 1.2638 - acc: 0.7681 - val_loss: 1.2430 - val_acc: 0.7774\n",
            "Epoch 34/80\n",
            "625/625 [==============================] - 315s 504ms/step - loss: 1.2381 - acc: 0.7767 - val_loss: 1.2423 - val_acc: 0.7740\n",
            "Epoch 35/80\n",
            "625/625 [==============================] - 314s 502ms/step - loss: 1.2231 - acc: 0.7781 - val_loss: 1.2230 - val_acc: 0.7780\n",
            "Epoch 36/80\n",
            "625/625 [==============================] - 314s 502ms/step - loss: 1.2041 - acc: 0.7821 - val_loss: 1.1908 - val_acc: 0.7853\n",
            "Epoch 37/80\n",
            "625/625 [==============================] - 311s 498ms/step - loss: 1.1797 - acc: 0.7866 - val_loss: 1.1830 - val_acc: 0.7869\n",
            "Epoch 38/80\n",
            "625/625 [==============================] - 312s 499ms/step - loss: 1.1638 - acc: 0.7880 - val_loss: 1.1876 - val_acc: 0.7824\n",
            "Epoch 39/80\n",
            "625/625 [==============================] - 315s 504ms/step - loss: 1.1449 - acc: 0.7929 - val_loss: 1.1778 - val_acc: 0.7799\n",
            "Epoch 40/80\n",
            "625/625 [==============================] - 312s 500ms/step - loss: 1.1286 - acc: 0.7947 - val_loss: 1.1624 - val_acc: 0.7843\n",
            "Epoch 41/80\n",
            "625/625 [==============================] - 312s 500ms/step - loss: 1.1128 - acc: 0.7945 - val_loss: 1.1460 - val_acc: 0.7889\n",
            "Epoch 42/80\n",
            "625/625 [==============================] - 313s 500ms/step - loss: 1.0909 - acc: 0.8023 - val_loss: 1.1351 - val_acc: 0.7888\n",
            "Epoch 43/80\n",
            "303/625 [=============>................] - ETA: 2:31 - loss: 1.0675 - acc: 0.8078"
          ],
          "name": "stdout"
        }
      ]
    },
    {
      "cell_type": "code",
      "metadata": {
        "id": "JibeG4sIZGGX",
        "colab_type": "code",
        "colab": {}
      },
      "source": [
        "# model3- Baseline + Data Augmentation\n",
        "\n",
        "def model3():\n",
        "  model = models.Sequential()\n",
        "  model.add(layers.Conv2D(32, (3, 3), activation ='relu', kernel_initializer='he_uniform', padding = 'same', input_shape=(32, 32, 3)))\n",
        "  model.add(layers.Conv2D(32, (3, 3), activation='relu', kernel_initializer='he_uniform', padding = 'same'))\n",
        "  model.add(layers.MaxPooling2D((2, 2)))\n",
        "  model.add(layers.Conv2D(64, (3, 3), activation='relu', kernel_initializer='he_uniform', padding = 'same'))\n",
        "  model.add(layers.Conv2D(64, (3, 3), activation='relu', kernel_initializer='he_uniform', padding = 'same'))\n",
        "  model.add(layers.MaxPooling2D((2, 2)))\n",
        "  model.add(layers.Conv2D(128, (3, 3), activation='relu', kernel_initializer='he_uniform', padding = 'same'))\n",
        "  model.add(layers.Conv2D(128, (3, 3), activation='relu', kernel_initializer='he_uniform', padding = 'same'))\n",
        "  model.add(layers.MaxPooling2D((2, 2)))\n",
        "  model.add(layers.Flatten())\n",
        "  model.add(layers.Dense(128, activation='relu', kernel_initializer='he_uniform'))\n",
        "  model.add(layers.Dense(10, activation='softmax'))\n",
        "  # compile model\n",
        "  opt = SGD(lr=0.001, momentum=0.9)\n",
        "  model.compile(optimizer=opt, loss='categorical_crossentropy', metrics=['accuracy'])\n",
        "  return model\n",
        "\n",
        "#data augmentation\n",
        "train_datagen = ImageDataGenerator (rescale = 1./255, width_shift_range=0.1, height_shift_range=0.1, horizontal_flip = True)\n",
        "train_generator = train_datagen.flow(x_train, y_train,batch_size = 64)\n",
        "\n",
        "\n",
        "#testing\n",
        "test_model(model3)"
      ],
      "execution_count": 0,
      "outputs": []
    },
    {
      "cell_type": "code",
      "metadata": {
        "id": "D-mWcf3wglGB",
        "colab_type": "code",
        "colab": {}
      },
      "source": [
        "#model4- Baseline + Dropout + Data Augmentation\n",
        "def model4():\n",
        "  model = models.Sequential()\n",
        "  model.add(layers.Conv2D(32, (3, 3), activation ='relu', kernel_initializer='he_uniform', padding = 'same', input_shape=(32, 32, 3)))\n",
        "  model.add(layers.Conv2D(32, (3, 3), activation='relu', kernel_initializer='he_uniform', padding = 'same'))\n",
        "  model.add(layers.MaxPooling2D((2, 2)))\n",
        "  model.add(layers.Dropout(0.2))\n",
        "  model.add(layers.Conv2D(64, (3, 3), activation='relu', kernel_initializer='he_uniform', padding = 'same'))\n",
        "  model.add(layers.Conv2D(64, (3, 3), activation='relu', kernel_initializer='he_uniform', padding = 'same'))\n",
        "  model.add(layers.MaxPooling2D((2, 2)))\n",
        "  model.add(layers.Dropout(0.2))\n",
        "  model.add(layers.Conv2D(128, (3, 3), activation='relu', kernel_initializer='he_uniform', padding = 'same'))\n",
        "  model.add(layers.Conv2D(128, (3, 3), activation='relu', kernel_initializer='he_uniform', padding = 'same'))\n",
        "  model.add(layers.MaxPooling2D((2, 2)))\n",
        "  model.add(layers.Dropout(0.2))\n",
        "  model.add(layers.Flatten())\n",
        "  model.add(layers.Dense(128, activation='relu', kernel_initializer='he_uniform'))\n",
        "  model.add(layers.Dropout(0.2))\n",
        "  model.add(layers.Dense(10, activation='softmax'))\n",
        "  # compile model\n",
        "  opt = SGD(lr=0.001, momentum=0.9)\n",
        "  model.compile(optimizer=opt, loss='categorical_crossentropy', metrics=['accuracy'])\n",
        "  return model\n",
        "\n",
        "#data augmentation\n",
        "train_datagen = ImageDataGenerator (rescale = 1./255, width_shift_range=0.1, height_shift_range=0.1, horizontal_flip = True)\n",
        "train_generator = train_datagen.flow(x_train, y_train,batch_size = 64)\n",
        "\n",
        "#testing\n",
        "test_model(model4)\n"
      ],
      "execution_count": 0,
      "outputs": []
    },
    {
      "cell_type": "code",
      "metadata": {
        "id": "8lmAeYJliftk",
        "colab_type": "code",
        "colab": {}
      },
      "source": [
        "#model5- Baseline + Dropout + Data Augmentation + Batch Normalization\n",
        "def model4():\n",
        "  model = models.Sequential()\n",
        "  model.add(layers.Conv2D(32, (3, 3), activation ='relu', kernel_initializer='he_uniform', padding = 'same', input_shape=(32, 32, 3)))\n",
        "  model.add(layers.BatchNormalization())\n",
        "  model.add(layers.Conv2D(32, (3, 3), activation='relu', kernel_initializer='he_uniform', padding = 'same'))\n",
        "  model.add(layers.BatchNormalization())\n",
        "  model.add(layers.MaxPooling2D((2, 2)))\n",
        "  model.add(layers.Dropout(0.2))\n",
        "  model.add(layers.Conv2D(64, (3, 3), activation='relu', kernel_initializer='he_uniform', padding = 'same'))\n",
        "  model.add(layers.BatchNormalization())\n",
        "  model.add(layers.Conv2D(64, (3, 3), activation='relu', kernel_initializer='he_uniform', padding = 'same'))\n",
        "  model.add(layers.BatchNormalization())\n",
        "  model.add(layers.MaxPooling2D((2, 2)))\n",
        "  model.add(layers.Dropout(0.2))\n",
        "  model.add(layers.Conv2D(128, (3, 3), activation='relu', kernel_initializer='he_uniform', padding = 'same'))\n",
        "  model.add(layers.BatchNormalization())\n",
        "  model.add(layers.Conv2D(128, (3, 3), activation='relu', kernel_initializer='he_uniform', padding = 'same'))\n",
        "  model.add(layers.BatchNormalization())\n",
        "  model.add(layers.MaxPooling2D((2, 2)))\n",
        "  model.add(layers.Dropout(0.2))\n",
        "  model.add(layers.Flatten())\n",
        "  model.add(layers.Dense(128, activation='relu', kernel_initializer='he_uniform'))\n",
        "  model.add(layers.BatchNormalization())\n",
        "  model.add(layers.Dropout(0.2))\n",
        "  model.add(layers.Dense(10, activation='softmax'))\n",
        "  # compile model\n",
        "  opt = SGD(lr=0.001, momentum=0.9)\n",
        "  model.compile(optimizer=opt, loss='categorical_crossentropy', metrics=['accuracy'])\n",
        "  return model\n",
        "\n",
        "#data augmentation\n",
        "train_datagen = ImageDataGenerator (rescale = 1./255, width_shift_range=0.1, height_shift_range=0.1, horizontal_flip = True)\n",
        "train_generator = train_datagen.flow(x_train, y_train,batch_size = 64)\n",
        "\n",
        "#testing\n",
        "test_model(model5)\n"
      ],
      "execution_count": 0,
      "outputs": []
    },
    {
      "cell_type": "code",
      "metadata": {
        "id": "5ff8k7G9BIEt",
        "colab_type": "code",
        "colab": {}
      },
      "source": [
        ""
      ],
      "execution_count": 0,
      "outputs": []
    }
  ]
}