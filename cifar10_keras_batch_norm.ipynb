{
  "nbformat": 4,
  "nbformat_minor": 0,
  "metadata": {
    "colab": {
      "name": "cifar10_keras_batch_norm.ipynb",
      "provenance": [],
      "authorship_tag": "ABX9TyM4Xh4ygPYNuq5AocNQj0FP",
      "include_colab_link": true
    },
    "kernelspec": {
      "name": "python3",
      "display_name": "Python 3"
    }
  },
  "cells": [
    {
      "cell_type": "markdown",
      "metadata": {
        "id": "view-in-github",
        "colab_type": "text"
      },
      "source": [
        "<a href=\"https://colab.research.google.com/github/ujs/cifar10/blob/master/cifar10_keras_batch_norm.ipynb\" target=\"_parent\"><img src=\"https://colab.research.google.com/assets/colab-badge.svg\" alt=\"Open In Colab\"/></a>"
      ]
    },
    {
      "cell_type": "markdown",
      "metadata": {
        "id": "l29A4XWwy0v1",
        "colab_type": "text"
      },
      "source": [
        "*   model5- Baseline + Dropout + Data Augmentation + Batch Normalization"
      ]
    },
    {
      "cell_type": "code",
      "metadata": {
        "id": "O8lfi-EAy7t-",
        "colab_type": "code",
        "colab": {}
      },
      "source": [
        "#Importing libraries\n",
        "from matplotlib import pyplot as plt\n",
        "import pandas as pd\n",
        "from keras import layers\n",
        "from keras import models\n",
        "from keras.utils import to_categorical\n",
        "from keras.preprocessing.image import ImageDataGenerator\n",
        "from sklearn.model_selection import train_test_split\n",
        "from keras.optimizers import SGD\n",
        "from keras import regularizers"
      ],
      "execution_count": 0,
      "outputs": []
    },
    {
      "cell_type": "code",
      "metadata": {
        "id": "w2_BLmbmy71s",
        "colab_type": "code",
        "colab": {}
      },
      "source": [
        "\n",
        "#importing data\n",
        "from keras.datasets import cifar10\n",
        "\n",
        "#load data\n",
        "(x, y),(x_test, y_test) = cifar10.load_data()"
      ],
      "execution_count": 0,
      "outputs": []
    },
    {
      "cell_type": "code",
      "metadata": {
        "id": "3cv-Qwzry74v",
        "colab_type": "code",
        "colab": {}
      },
      "source": [
        "#examine shape of data\n",
        "print (x.shape)\n",
        "print (x_test.shape)\n",
        "print (y.shape)\n",
        "print (y_test.shape)"
      ],
      "execution_count": 0,
      "outputs": []
    },
    {
      "cell_type": "code",
      "metadata": {
        "id": "U12R3anDy78C",
        "colab_type": "code",
        "colab": {}
      },
      "source": [
        "#Splitting x,y data into train and validation data\n",
        "x_train, x_val, y_train, y_val = train_test_split(x, y, test_size=0.2, random_state=1)\n",
        "\n",
        "print(x_train.shape)\n",
        "print(x_val.shape)"
      ],
      "execution_count": 0,
      "outputs": []
    },
    {
      "cell_type": "code",
      "metadata": {
        "id": "oqNgI6_fzEYy",
        "colab_type": "code",
        "colab": {}
      },
      "source": [
        "#Data Preprocessing\n",
        "\n",
        "#one-hot encode target values\n",
        "y_train = to_categorical(y_train)\n",
        "y_val = to_categorical(y_val)\n",
        "y_test = to_categorical(y_test)\n",
        "\n",
        "\n",
        "#Rescaling images \n",
        "\n",
        "train_datagen = ImageDataGenerator (rescale = 1./255)\n",
        "val_datagen = ImageDataGenerator (rescale = 1./255)\n",
        "test_datagen = ImageDataGenerator (rescale = 1./255)\n",
        "\n",
        "train_generator = train_datagen.flow(x_train, y_train,batch_size = 64)\n",
        "val_generator = val_datagen.flow(x_val, y_val)\n"
      ],
      "execution_count": 0,
      "outputs": []
    },
    {
      "cell_type": "code",
      "metadata": {
        "id": "-g89mrQrzEbu",
        "colab_type": "code",
        "colab": {}
      },
      "source": [
        "def test_model(model):\n",
        "  #Instantiate model\n",
        "  model = model()\n",
        "\n",
        "  #fit model\n",
        "  steps = x_train.shape[0]/64\n",
        "  history = model.fit_generator(train_generator, steps_per_epoch = steps, epochs = 80, validation_data = val_generator)\n",
        "  model.save('cifar10_{}'.format(model))\n",
        "\n",
        "  #Plot loss\n",
        "  plt.subplot(211)\n",
        "  plt.title('cross-entropy loss')\n",
        "  plt.plot(history.history['loss'],color = 'blue', label = 'train')\n",
        "  plt.plot(history.history['val_loss'], color = 'red', label = 'validation')\n",
        "  plt.legend()\n",
        "\n",
        "  #plot accurcay\n",
        "  plt.subplot(212)\n",
        "  plt.title('accuracy')\n",
        "  plt.plot(history.history['acc'],color = 'blue', label = 'train')\n",
        "  plt.plot(history.history['val_acc'], color = 'red', label = 'validation')\n",
        "  plt.legend()\n",
        "\n",
        "  # evaluate model\n",
        "  _, acc = model.evaluate(val_generator, verbose=0)\n",
        "  print('> %.3f' % (acc * 100.0))\n",
        "  return acc"
      ],
      "execution_count": 0,
      "outputs": []
    },
    {
      "cell_type": "code",
      "metadata": {
        "id": "J83EdbvMzEe3",
        "colab_type": "code",
        "colab": {}
      },
      "source": [
        "#model5- Baseline + Dropout + Data Augmentation + Batch Normalization\n",
        "def model4():\n",
        "  model = models.Sequential()\n",
        "  model.add(layers.Conv2D(32, (3, 3), activation ='relu', kernel_initializer='he_uniform', padding = 'same', input_shape=(32, 32, 3)))\n",
        "  model.add(layers.BatchNormalization())\n",
        "  model.add(layers.Conv2D(32, (3, 3), activation='relu', kernel_initializer='he_uniform', padding = 'same'))\n",
        "  model.add(layers.BatchNormalization())\n",
        "  model.add(layers.MaxPooling2D((2, 2)))\n",
        "  model.add(layers.Dropout(0.2))\n",
        "  model.add(layers.Conv2D(64, (3, 3), activation='relu', kernel_initializer='he_uniform', padding = 'same'))\n",
        "  model.add(layers.BatchNormalization())\n",
        "  model.add(layers.Conv2D(64, (3, 3), activation='relu', kernel_initializer='he_uniform', padding = 'same'))\n",
        "  model.add(layers.BatchNormalization())\n",
        "  model.add(layers.MaxPooling2D((2, 2)))\n",
        "  model.add(layers.Dropout(0.2))\n",
        "  model.add(layers.Conv2D(128, (3, 3), activation='relu', kernel_initializer='he_uniform', padding = 'same'))\n",
        "  model.add(layers.BatchNormalization())\n",
        "  model.add(layers.Conv2D(128, (3, 3), activation='relu', kernel_initializer='he_uniform', padding = 'same'))\n",
        "  model.add(layers.BatchNormalization())\n",
        "  model.add(layers.MaxPooling2D((2, 2)))\n",
        "  model.add(layers.Dropout(0.2))\n",
        "  model.add(layers.Flatten())\n",
        "  model.add(layers.Dense(128, activation='relu', kernel_initializer='he_uniform'))\n",
        "  model.add(layers.BatchNormalization())\n",
        "  model.add(layers.Dropout(0.2))\n",
        "  model.add(layers.Dense(10, activation='softmax'))\n",
        "  # compile model\n",
        "  opt = SGD(lr=0.001, momentum=0.9)\n",
        "  model.compile(optimizer=opt, loss='categorical_crossentropy', metrics=['accuracy'])\n",
        "  return model\n",
        "\n",
        "#data augmentation\n",
        "train_datagen = ImageDataGenerator (rescale = 1./255, width_shift_range=0.1, height_shift_range=0.1, horizontal_flip = True)\n",
        "train_generator = train_datagen.flow(x_train, y_train,batch_size = 64)\n",
        "\n",
        "#testing\n",
        "test_model(model5)\n"
      ],
      "execution_count": 0,
      "outputs": []
    },
    {
      "cell_type": "code",
      "metadata": {
        "id": "3_QuCAAZzmOj",
        "colab_type": "code",
        "colab": {}
      },
      "source": [
        ""
      ],
      "execution_count": 0,
      "outputs": []
    },
    {
      "cell_type": "code",
      "metadata": {
        "id": "JNUsGjuBzmRc",
        "colab_type": "code",
        "colab": {}
      },
      "source": [
        ""
      ],
      "execution_count": 0,
      "outputs": []
    },
    {
      "cell_type": "code",
      "metadata": {
        "id": "VhSQH1azzmT0",
        "colab_type": "code",
        "colab": {}
      },
      "source": [
        ""
      ],
      "execution_count": 0,
      "outputs": []
    }
  ]
}