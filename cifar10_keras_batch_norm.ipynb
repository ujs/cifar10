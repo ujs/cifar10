{
  "nbformat": 4,
  "nbformat_minor": 0,
  "metadata": {
    "colab": {
      "name": "cifar10_keras_batch_norm.ipynb",
      "provenance": [],
      "authorship_tag": "ABX9TyOoDtK4RznPZBCsWvUPq3e8",
      "include_colab_link": true
    },
    "kernelspec": {
      "name": "python3",
      "display_name": "Python 3"
    }
  },
  "cells": [
    {
      "cell_type": "markdown",
      "metadata": {
        "id": "view-in-github",
        "colab_type": "text"
      },
      "source": [
        "<a href=\"https://colab.research.google.com/github/ujs/cifar10/blob/master/cifar10_keras_batch_norm.ipynb\" target=\"_parent\"><img src=\"https://colab.research.google.com/assets/colab-badge.svg\" alt=\"Open In Colab\"/></a>"
      ]
    },
    {
      "cell_type": "markdown",
      "metadata": {
        "id": "l29A4XWwy0v1",
        "colab_type": "text"
      },
      "source": [
        "*   model5- Baseline + Dropout + Data Augmentation + Batch Normalization"
      ]
    },
    {
      "cell_type": "code",
      "metadata": {
        "id": "Jr4-kM6h4yrq",
        "colab_type": "code",
        "outputId": "d910bf84-f9c6-4956-ffb8-6cb65ad666ec",
        "colab": {
          "base_uri": "https://localhost:8080/",
          "height": 732
        }
      },
      "source": [
        "!pip install tensorflow==1.14.0"
      ],
      "execution_count": 0,
      "outputs": [
        {
          "output_type": "stream",
          "text": [
            "Collecting tensorflow==1.14.0\n",
            "\u001b[?25l  Downloading https://files.pythonhosted.org/packages/de/f0/96fb2e0412ae9692dbf400e5b04432885f677ad6241c088ccc5fe7724d69/tensorflow-1.14.0-cp36-cp36m-manylinux1_x86_64.whl (109.2MB)\n",
            "\u001b[K     |████████████████████████████████| 109.2MB 102kB/s \n",
            "\u001b[?25hCollecting tensorboard<1.15.0,>=1.14.0\n",
            "\u001b[?25l  Downloading https://files.pythonhosted.org/packages/91/2d/2ed263449a078cd9c8a9ba50ebd50123adf1f8cfbea1492f9084169b89d9/tensorboard-1.14.0-py3-none-any.whl (3.1MB)\n",
            "\u001b[K     |████████████████████████████████| 3.2MB 30.8MB/s \n",
            "\u001b[?25hRequirement already satisfied: google-pasta>=0.1.6 in /usr/local/lib/python3.6/dist-packages (from tensorflow==1.14.0) (0.2.0)\n",
            "Requirement already satisfied: gast>=0.2.0 in /usr/local/lib/python3.6/dist-packages (from tensorflow==1.14.0) (0.3.3)\n",
            "Requirement already satisfied: keras-preprocessing>=1.0.5 in /usr/local/lib/python3.6/dist-packages (from tensorflow==1.14.0) (1.1.0)\n",
            "Requirement already satisfied: wheel>=0.26 in /usr/local/lib/python3.6/dist-packages (from tensorflow==1.14.0) (0.34.2)\n",
            "Requirement already satisfied: absl-py>=0.7.0 in /usr/local/lib/python3.6/dist-packages (from tensorflow==1.14.0) (0.9.0)\n",
            "Requirement already satisfied: six>=1.10.0 in /usr/local/lib/python3.6/dist-packages (from tensorflow==1.14.0) (1.12.0)\n",
            "Requirement already satisfied: numpy<2.0,>=1.14.5 in /usr/local/lib/python3.6/dist-packages (from tensorflow==1.14.0) (1.18.2)\n",
            "Requirement already satisfied: grpcio>=1.8.6 in /usr/local/lib/python3.6/dist-packages (from tensorflow==1.14.0) (1.27.2)\n",
            "Requirement already satisfied: astor>=0.6.0 in /usr/local/lib/python3.6/dist-packages (from tensorflow==1.14.0) (0.8.1)\n",
            "Requirement already satisfied: keras-applications>=1.0.6 in /usr/local/lib/python3.6/dist-packages (from tensorflow==1.14.0) (1.0.8)\n",
            "Requirement already satisfied: termcolor>=1.1.0 in /usr/local/lib/python3.6/dist-packages (from tensorflow==1.14.0) (1.1.0)\n",
            "Requirement already satisfied: wrapt>=1.11.1 in /usr/local/lib/python3.6/dist-packages (from tensorflow==1.14.0) (1.12.1)\n",
            "Collecting tensorflow-estimator<1.15.0rc0,>=1.14.0rc0\n",
            "\u001b[?25l  Downloading https://files.pythonhosted.org/packages/3c/d5/21860a5b11caf0678fbc8319341b0ae21a07156911132e0e71bffed0510d/tensorflow_estimator-1.14.0-py2.py3-none-any.whl (488kB)\n",
            "\u001b[K     |████████████████████████████████| 491kB 58.9MB/s \n",
            "\u001b[?25hRequirement already satisfied: protobuf>=3.6.1 in /usr/local/lib/python3.6/dist-packages (from tensorflow==1.14.0) (3.10.0)\n",
            "Requirement already satisfied: setuptools>=41.0.0 in /usr/local/lib/python3.6/dist-packages (from tensorboard<1.15.0,>=1.14.0->tensorflow==1.14.0) (46.0.0)\n",
            "Requirement already satisfied: werkzeug>=0.11.15 in /usr/local/lib/python3.6/dist-packages (from tensorboard<1.15.0,>=1.14.0->tensorflow==1.14.0) (1.0.0)\n",
            "Requirement already satisfied: markdown>=2.6.8 in /usr/local/lib/python3.6/dist-packages (from tensorboard<1.15.0,>=1.14.0->tensorflow==1.14.0) (3.2.1)\n",
            "Requirement already satisfied: h5py in /usr/local/lib/python3.6/dist-packages (from keras-applications>=1.0.6->tensorflow==1.14.0) (2.10.0)\n",
            "Installing collected packages: tensorboard, tensorflow-estimator, tensorflow\n",
            "  Found existing installation: tensorboard 2.1.1\n",
            "    Uninstalling tensorboard-2.1.1:\n",
            "      Successfully uninstalled tensorboard-2.1.1\n",
            "  Found existing installation: tensorflow-estimator 2.2.0rc0\n",
            "    Uninstalling tensorflow-estimator-2.2.0rc0:\n",
            "      Successfully uninstalled tensorflow-estimator-2.2.0rc0\n",
            "  Found existing installation: tensorflow 2.2.0rc1\n",
            "    Uninstalling tensorflow-2.2.0rc1:\n",
            "      Successfully uninstalled tensorflow-2.2.0rc1\n",
            "Successfully installed tensorboard-1.14.0 tensorflow-1.14.0 tensorflow-estimator-1.14.0\n"
          ],
          "name": "stdout"
        },
        {
          "output_type": "display_data",
          "data": {
            "application/vnd.colab-display-data+json": {
              "pip_warning": {
                "packages": [
                  "tensorboard",
                  "tensorflow"
                ]
              }
            }
          },
          "metadata": {
            "tags": []
          }
        }
      ]
    },
    {
      "cell_type": "code",
      "metadata": {
        "id": "O8lfi-EAy7t-",
        "colab_type": "code",
        "outputId": "e07f4bb1-a0eb-4122-f65a-c1915cd74885",
        "colab": {
          "base_uri": "https://localhost:8080/",
          "height": 508
        }
      },
      "source": [
        "#Importing libraries\n",
        "from matplotlib import pyplot as plt\n",
        "import pandas as pd\n",
        "from keras import layers\n",
        "from keras import models\n",
        "from keras.utils import to_categorical\n",
        "from keras.preprocessing.image import ImageDataGenerator\n",
        "from sklearn.model_selection import train_test_split\n",
        "from keras.optimizers import SGD\n",
        "from keras import regularizers"
      ],
      "execution_count": 0,
      "outputs": [
        {
          "output_type": "stream",
          "text": [
            "Using TensorFlow backend.\n",
            "/usr/local/lib/python3.6/dist-packages/tensorflow/python/framework/dtypes.py:516: FutureWarning: Passing (type, 1) or '1type' as a synonym of type is deprecated; in a future version of numpy, it will be understood as (type, (1,)) / '(1,)type'.\n",
            "  _np_qint8 = np.dtype([(\"qint8\", np.int8, 1)])\n",
            "/usr/local/lib/python3.6/dist-packages/tensorflow/python/framework/dtypes.py:517: FutureWarning: Passing (type, 1) or '1type' as a synonym of type is deprecated; in a future version of numpy, it will be understood as (type, (1,)) / '(1,)type'.\n",
            "  _np_quint8 = np.dtype([(\"quint8\", np.uint8, 1)])\n",
            "/usr/local/lib/python3.6/dist-packages/tensorflow/python/framework/dtypes.py:518: FutureWarning: Passing (type, 1) or '1type' as a synonym of type is deprecated; in a future version of numpy, it will be understood as (type, (1,)) / '(1,)type'.\n",
            "  _np_qint16 = np.dtype([(\"qint16\", np.int16, 1)])\n",
            "/usr/local/lib/python3.6/dist-packages/tensorflow/python/framework/dtypes.py:519: FutureWarning: Passing (type, 1) or '1type' as a synonym of type is deprecated; in a future version of numpy, it will be understood as (type, (1,)) / '(1,)type'.\n",
            "  _np_quint16 = np.dtype([(\"quint16\", np.uint16, 1)])\n",
            "/usr/local/lib/python3.6/dist-packages/tensorflow/python/framework/dtypes.py:520: FutureWarning: Passing (type, 1) or '1type' as a synonym of type is deprecated; in a future version of numpy, it will be understood as (type, (1,)) / '(1,)type'.\n",
            "  _np_qint32 = np.dtype([(\"qint32\", np.int32, 1)])\n",
            "/usr/local/lib/python3.6/dist-packages/tensorflow/python/framework/dtypes.py:525: FutureWarning: Passing (type, 1) or '1type' as a synonym of type is deprecated; in a future version of numpy, it will be understood as (type, (1,)) / '(1,)type'.\n",
            "  np_resource = np.dtype([(\"resource\", np.ubyte, 1)])\n",
            "/usr/local/lib/python3.6/dist-packages/tensorboard/compat/tensorflow_stub/dtypes.py:541: FutureWarning: Passing (type, 1) or '1type' as a synonym of type is deprecated; in a future version of numpy, it will be understood as (type, (1,)) / '(1,)type'.\n",
            "  _np_qint8 = np.dtype([(\"qint8\", np.int8, 1)])\n",
            "/usr/local/lib/python3.6/dist-packages/tensorboard/compat/tensorflow_stub/dtypes.py:542: FutureWarning: Passing (type, 1) or '1type' as a synonym of type is deprecated; in a future version of numpy, it will be understood as (type, (1,)) / '(1,)type'.\n",
            "  _np_quint8 = np.dtype([(\"quint8\", np.uint8, 1)])\n",
            "/usr/local/lib/python3.6/dist-packages/tensorboard/compat/tensorflow_stub/dtypes.py:543: FutureWarning: Passing (type, 1) or '1type' as a synonym of type is deprecated; in a future version of numpy, it will be understood as (type, (1,)) / '(1,)type'.\n",
            "  _np_qint16 = np.dtype([(\"qint16\", np.int16, 1)])\n",
            "/usr/local/lib/python3.6/dist-packages/tensorboard/compat/tensorflow_stub/dtypes.py:544: FutureWarning: Passing (type, 1) or '1type' as a synonym of type is deprecated; in a future version of numpy, it will be understood as (type, (1,)) / '(1,)type'.\n",
            "  _np_quint16 = np.dtype([(\"quint16\", np.uint16, 1)])\n",
            "/usr/local/lib/python3.6/dist-packages/tensorboard/compat/tensorflow_stub/dtypes.py:545: FutureWarning: Passing (type, 1) or '1type' as a synonym of type is deprecated; in a future version of numpy, it will be understood as (type, (1,)) / '(1,)type'.\n",
            "  _np_qint32 = np.dtype([(\"qint32\", np.int32, 1)])\n",
            "/usr/local/lib/python3.6/dist-packages/tensorboard/compat/tensorflow_stub/dtypes.py:550: FutureWarning: Passing (type, 1) or '1type' as a synonym of type is deprecated; in a future version of numpy, it will be understood as (type, (1,)) / '(1,)type'.\n",
            "  np_resource = np.dtype([(\"resource\", np.ubyte, 1)])\n"
          ],
          "name": "stderr"
        },
        {
          "output_type": "display_data",
          "data": {
            "text/html": [
              "<p style=\"color: red;\">\n",
              "The default version of TensorFlow in Colab will switch to TensorFlow 2.x on the 27th of March, 2020.<br>\n",
              "We recommend you <a href=\"https://www.tensorflow.org/guide/migrate\" target=\"_blank\">upgrade</a> now\n",
              "or ensure your notebook will continue to use TensorFlow 1.x via the <code>%tensorflow_version 1.x</code> magic:\n",
              "<a href=\"https://colab.research.google.com/notebooks/tensorflow_version.ipynb\" target=\"_blank\">more info</a>.</p>\n"
            ],
            "text/plain": [
              "<IPython.core.display.HTML object>"
            ]
          },
          "metadata": {
            "tags": []
          }
        }
      ]
    },
    {
      "cell_type": "code",
      "metadata": {
        "id": "w2_BLmbmy71s",
        "colab_type": "code",
        "colab": {}
      },
      "source": [
        "\n",
        "#importing data\n",
        "from keras.datasets import cifar10\n",
        "\n",
        "#load data\n",
        "(x, y),(x_test, y_test) = cifar10.load_data()"
      ],
      "execution_count": 0,
      "outputs": []
    },
    {
      "cell_type": "code",
      "metadata": {
        "id": "3cv-Qwzry74v",
        "colab_type": "code",
        "outputId": "e901af8d-d6d9-4d86-96c9-0531e55eac5e",
        "colab": {
          "base_uri": "https://localhost:8080/",
          "height": 85
        }
      },
      "source": [
        "#examine shape of data\n",
        "print (x.shape)\n",
        "print (x_test.shape)\n",
        "print (y.shape)\n",
        "print (y_test.shape)"
      ],
      "execution_count": 0,
      "outputs": [
        {
          "output_type": "stream",
          "text": [
            "(50000, 32, 32, 3)\n",
            "(10000, 32, 32, 3)\n",
            "(50000, 1)\n",
            "(10000, 1)\n"
          ],
          "name": "stdout"
        }
      ]
    },
    {
      "cell_type": "code",
      "metadata": {
        "id": "U12R3anDy78C",
        "colab_type": "code",
        "outputId": "2d829a17-ff67-480f-ed4f-8da28b350674",
        "colab": {
          "base_uri": "https://localhost:8080/",
          "height": 51
        }
      },
      "source": [
        "#Splitting x,y data into train and validation data\n",
        "x_train, x_val, y_train, y_val = train_test_split(x, y, test_size=0.2, random_state=1)\n",
        "\n",
        "print(x_train.shape)\n",
        "print(x_val.shape)"
      ],
      "execution_count": 0,
      "outputs": [
        {
          "output_type": "stream",
          "text": [
            "(40000, 32, 32, 3)\n",
            "(10000, 32, 32, 3)\n"
          ],
          "name": "stdout"
        }
      ]
    },
    {
      "cell_type": "code",
      "metadata": {
        "id": "oqNgI6_fzEYy",
        "colab_type": "code",
        "colab": {}
      },
      "source": [
        "#Data Preprocessing\n",
        "\n",
        "#one-hot encode target values\n",
        "y_train = to_categorical(y_train)\n",
        "y_val = to_categorical(y_val)\n",
        "y_test = to_categorical(y_test)\n",
        "\n",
        "\n",
        "#Rescaling images \n",
        "\n",
        "train_datagen = ImageDataGenerator (rescale = 1./255)\n",
        "val_datagen = ImageDataGenerator (rescale = 1./255)\n",
        "test_datagen = ImageDataGenerator (rescale = 1./255)\n",
        "\n",
        "train_generator = train_datagen.flow(x_train, y_train,batch_size = 64)\n",
        "val_generator = val_datagen.flow(x_val, y_val)\n"
      ],
      "execution_count": 0,
      "outputs": []
    },
    {
      "cell_type": "code",
      "metadata": {
        "id": "-g89mrQrzEbu",
        "colab_type": "code",
        "colab": {}
      },
      "source": [
        "def test_model(model):\n",
        "  #Instantiate model\n",
        "  model = model()\n",
        "\n",
        "  #fit model\n",
        "  steps = x_train.shape[0]/64\n",
        "  history = model.fit_generator(train_generator, steps_per_epoch = steps, epochs = 80, validation_data = val_generator)\n",
        "  model.save('cifar10_{}'.format(model))\n",
        "\n",
        "  #Plot loss\n",
        "  plt.subplot(211)\n",
        "  plt.title('cross-entropy loss')\n",
        "  plt.plot(history.history['loss'],color = 'blue', label = 'train')\n",
        "  plt.plot(history.history['val_loss'], color = 'red', label = 'validation')\n",
        "  plt.legend()\n",
        "\n",
        "  #plot accurcay\n",
        "  plt.subplot(212)\n",
        "  plt.title('accuracy')\n",
        "  plt.plot(history.history['acc'],color = 'blue', label = 'train')\n",
        "  plt.plot(history.history['val_acc'], color = 'red', label = 'validation')\n",
        "  plt.legend()\n",
        "\n",
        "  # evaluate model\n",
        "  _, acc = model.evaluate(val_generator, verbose=0)\n",
        "  print('> %.3f' % (acc * 100.0))\n",
        "  return acc"
      ],
      "execution_count": 0,
      "outputs": []
    },
    {
      "cell_type": "code",
      "metadata": {
        "id": "GCISGySJ6Wr9",
        "colab_type": "code",
        "outputId": "dff5643e-fe92-4e3e-e5a8-711c8b75fa13",
        "colab": {
          "base_uri": "https://localhost:8080/",
          "height": 1000
        }
      },
      "source": [
        "#model5- Baseline + Dropout + Data Augmentation + Batch Normalization\n",
        "def model5():\n",
        "  model = models.Sequential()\n",
        "  model.add(layers.Conv2D(32, (3, 3), activation ='relu', kernel_initializer='he_uniform', padding = 'same', input_shape=(32, 32, 3)))\n",
        "  model.add(layers.BatchNormalization())\n",
        "  model.add(layers.Conv2D(32, (3, 3), activation='relu', kernel_initializer='he_uniform', padding = 'same'))\n",
        "  model.add(layers.BatchNormalization())\n",
        "  model.add(layers.MaxPooling2D((2, 2)))\n",
        "  model.add(layers.Dropout(0.2))\n",
        "  model.add(layers.Conv2D(64, (3, 3), activation='relu', kernel_initializer='he_uniform', padding = 'same'))\n",
        "  model.add(layers.BatchNormalization())\n",
        "  model.add(layers.Conv2D(64, (3, 3), activation='relu', kernel_initializer='he_uniform', padding = 'same'))\n",
        "  model.add(layers.BatchNormalization())\n",
        "  model.add(layers.MaxPooling2D((2, 2)))\n",
        "  model.add(layers.Dropout(0.2))\n",
        "  model.add(layers.Conv2D(128, (3, 3), activation='relu', kernel_initializer='he_uniform', padding = 'same'))\n",
        "  model.add(layers.BatchNormalization())\n",
        "  model.add(layers.Conv2D(128, (3, 3), activation='relu', kernel_initializer='he_uniform', padding = 'same'))\n",
        "  model.add(layers.BatchNormalization())\n",
        "  model.add(layers.MaxPooling2D((2, 2)))\n",
        "  model.add(layers.Dropout(0.2))\n",
        "  model.add(layers.Flatten())\n",
        "  model.add(layers.Dense(128, activation='relu', kernel_initializer='he_uniform'))\n",
        "  model.add(layers.BatchNormalization())\n",
        "  model.add(layers.Dropout(0.2))\n",
        "  model.add(layers.Dense(10, activation='softmax'))\n",
        "  # compile model\n",
        "  opt = SGD(lr=0.001, momentum=0.9)\n",
        "  model.compile(optimizer=opt, loss='categorical_crossentropy', metrics=['accuracy'])\n",
        "  return model\n",
        "\n",
        "#data augmentation\n",
        "train_datagen = ImageDataGenerator (rescale = 1./255, width_shift_range=0.1, height_shift_range=0.1, horizontal_flip = True)\n",
        "train_generator = train_datagen.flow(x_train, y_train,batch_size = 64)\n",
        "\n",
        "#testing\n",
        "test_model(model5)\n"
      ],
      "execution_count": 0,
      "outputs": [
        {
          "output_type": "stream",
          "text": [
            "WARNING:tensorflow:From /usr/local/lib/python3.6/dist-packages/keras/backend/tensorflow_backend.py:66: The name tf.get_default_graph is deprecated. Please use tf.compat.v1.get_default_graph instead.\n",
            "\n",
            "WARNING:tensorflow:From /usr/local/lib/python3.6/dist-packages/keras/backend/tensorflow_backend.py:541: The name tf.placeholder is deprecated. Please use tf.compat.v1.placeholder instead.\n",
            "\n",
            "WARNING:tensorflow:From /usr/local/lib/python3.6/dist-packages/keras/backend/tensorflow_backend.py:4432: The name tf.random_uniform is deprecated. Please use tf.random.uniform instead.\n",
            "\n",
            "WARNING:tensorflow:From /usr/local/lib/python3.6/dist-packages/keras/backend/tensorflow_backend.py:190: The name tf.get_default_session is deprecated. Please use tf.compat.v1.get_default_session instead.\n",
            "\n",
            "WARNING:tensorflow:From /usr/local/lib/python3.6/dist-packages/keras/backend/tensorflow_backend.py:197: The name tf.ConfigProto is deprecated. Please use tf.compat.v1.ConfigProto instead.\n",
            "\n",
            "WARNING:tensorflow:From /usr/local/lib/python3.6/dist-packages/keras/backend/tensorflow_backend.py:2041: The name tf.nn.fused_batch_norm is deprecated. Please use tf.compat.v1.nn.fused_batch_norm instead.\n",
            "\n",
            "WARNING:tensorflow:From /usr/local/lib/python3.6/dist-packages/keras/backend/tensorflow_backend.py:4267: The name tf.nn.max_pool is deprecated. Please use tf.nn.max_pool2d instead.\n",
            "\n",
            "WARNING:tensorflow:From /usr/local/lib/python3.6/dist-packages/keras/backend/tensorflow_backend.py:3733: calling dropout (from tensorflow.python.ops.nn_ops) with keep_prob is deprecated and will be removed in a future version.\n",
            "Instructions for updating:\n",
            "Please use `rate` instead of `keep_prob`. Rate should be set to `rate = 1 - keep_prob`.\n",
            "WARNING:tensorflow:From /usr/local/lib/python3.6/dist-packages/keras/optimizers.py:793: The name tf.train.Optimizer is deprecated. Please use tf.compat.v1.train.Optimizer instead.\n",
            "\n",
            "WARNING:tensorflow:From /usr/local/lib/python3.6/dist-packages/tensorflow/python/ops/math_grad.py:1250: add_dispatch_support.<locals>.wrapper (from tensorflow.python.ops.array_ops) is deprecated and will be removed in a future version.\n",
            "Instructions for updating:\n",
            "Use tf.where in 2.0, which has the same broadcast rule as np.where\n",
            "Epoch 1/80\n",
            "625/625 [==============================] - 466s 746ms/step - loss: 1.9261 - acc: 0.3463 - val_loss: 1.4633 - val_acc: 0.4774\n",
            "Epoch 2/80\n",
            "625/625 [==============================] - 460s 737ms/step - loss: 1.5202 - acc: 0.4510 - val_loss: 1.3042 - val_acc: 0.5323\n",
            "Epoch 3/80\n",
            "625/625 [==============================] - 463s 740ms/step - loss: 1.3990 - acc: 0.4940 - val_loss: 1.2695 - val_acc: 0.5407\n",
            "Epoch 4/80\n",
            "625/625 [==============================] - 462s 740ms/step - loss: 1.2960 - acc: 0.5312 - val_loss: 1.2201 - val_acc: 0.5664\n",
            "Epoch 5/80\n",
            "625/625 [==============================] - 463s 740ms/step - loss: 1.2254 - acc: 0.5599 - val_loss: 1.1409 - val_acc: 0.5962\n",
            "Epoch 6/80\n",
            "625/625 [==============================] - 463s 740ms/step - loss: 1.1630 - acc: 0.5837 - val_loss: 1.2439 - val_acc: 0.5578\n",
            "Epoch 7/80\n",
            "625/625 [==============================] - 463s 741ms/step - loss: 1.1108 - acc: 0.6063 - val_loss: 1.0326 - val_acc: 0.6357\n",
            "Epoch 8/80\n",
            "625/625 [==============================] - 466s 745ms/step - loss: 1.0685 - acc: 0.6182 - val_loss: 1.1694 - val_acc: 0.5970\n",
            "Epoch 9/80\n",
            "625/625 [==============================] - 465s 743ms/step - loss: 1.0369 - acc: 0.6314 - val_loss: 0.9627 - val_acc: 0.6598\n",
            "Epoch 10/80\n",
            "625/625 [==============================] - 464s 743ms/step - loss: 1.0021 - acc: 0.6434 - val_loss: 0.8920 - val_acc: 0.6855\n",
            "Epoch 11/80\n",
            "625/625 [==============================] - 467s 747ms/step - loss: 0.9763 - acc: 0.6524 - val_loss: 0.8937 - val_acc: 0.6868\n",
            "Epoch 12/80\n",
            "625/625 [==============================] - 464s 742ms/step - loss: 0.9481 - acc: 0.6611 - val_loss: 0.9532 - val_acc: 0.6679\n",
            "Epoch 13/80\n",
            "625/625 [==============================] - 462s 739ms/step - loss: 0.9275 - acc: 0.6717 - val_loss: 1.0300 - val_acc: 0.6562\n",
            "Epoch 14/80\n",
            "625/625 [==============================] - 463s 741ms/step - loss: 0.9126 - acc: 0.6762 - val_loss: 0.8930 - val_acc: 0.6888\n",
            "Epoch 15/80\n",
            "625/625 [==============================] - 463s 741ms/step - loss: 0.8863 - acc: 0.6855 - val_loss: 0.8121 - val_acc: 0.7113\n",
            "Epoch 16/80\n",
            "625/625 [==============================] - 466s 745ms/step - loss: 0.8744 - acc: 0.6906 - val_loss: 0.7850 - val_acc: 0.7211\n",
            "Epoch 17/80\n",
            "625/625 [==============================] - 463s 741ms/step - loss: 0.8529 - acc: 0.6974 - val_loss: 0.8097 - val_acc: 0.7128\n",
            "Epoch 18/80\n",
            "625/625 [==============================] - 466s 745ms/step - loss: 0.8380 - acc: 0.7052 - val_loss: 0.8704 - val_acc: 0.7018\n",
            "Epoch 19/80\n",
            "625/625 [==============================] - 464s 743ms/step - loss: 0.8258 - acc: 0.7098 - val_loss: 0.7847 - val_acc: 0.7266\n",
            "Epoch 20/80\n",
            "625/625 [==============================] - 461s 738ms/step - loss: 0.8101 - acc: 0.7144 - val_loss: 0.7947 - val_acc: 0.7199\n",
            "Epoch 21/80\n",
            "625/625 [==============================] - 462s 739ms/step - loss: 0.8035 - acc: 0.7165 - val_loss: 0.9135 - val_acc: 0.6868\n",
            "Epoch 22/80\n",
            "625/625 [==============================] - 465s 744ms/step - loss: 0.7930 - acc: 0.7212 - val_loss: 0.7678 - val_acc: 0.7309\n",
            "Epoch 23/80\n",
            "625/625 [==============================] - 463s 741ms/step - loss: 0.7813 - acc: 0.7269 - val_loss: 0.7928 - val_acc: 0.7275\n",
            "Epoch 24/80\n",
            "625/625 [==============================] - 462s 739ms/step - loss: 0.7635 - acc: 0.7316 - val_loss: 0.7757 - val_acc: 0.7282\n",
            "Epoch 25/80\n",
            "625/625 [==============================] - 460s 737ms/step - loss: 0.7601 - acc: 0.7329 - val_loss: 0.7038 - val_acc: 0.7511\n",
            "Epoch 26/80\n",
            "625/625 [==============================] - 465s 744ms/step - loss: 0.7520 - acc: 0.7363 - val_loss: 0.7614 - val_acc: 0.7330\n",
            "Epoch 27/80\n",
            "625/625 [==============================] - 464s 743ms/step - loss: 0.7383 - acc: 0.7426 - val_loss: 0.7104 - val_acc: 0.7517\n",
            "Epoch 28/80\n",
            "625/625 [==============================] - 461s 738ms/step - loss: 0.7308 - acc: 0.7441 - val_loss: 0.6722 - val_acc: 0.7609\n",
            "Epoch 29/80\n",
            "625/625 [==============================] - 464s 743ms/step - loss: 0.7253 - acc: 0.7468 - val_loss: 0.6448 - val_acc: 0.7692\n",
            "Epoch 30/80\n",
            "625/625 [==============================] - 465s 743ms/step - loss: 0.7203 - acc: 0.7477 - val_loss: 0.6914 - val_acc: 0.7568\n",
            "Epoch 31/80\n",
            "625/625 [==============================] - 465s 744ms/step - loss: 0.7109 - acc: 0.7528 - val_loss: 0.6832 - val_acc: 0.7605\n",
            "Epoch 32/80\n",
            "625/625 [==============================] - 461s 738ms/step - loss: 0.7012 - acc: 0.7544 - val_loss: 0.6607 - val_acc: 0.7681\n",
            "Epoch 33/80\n",
            "625/625 [==============================] - 463s 741ms/step - loss: 0.6986 - acc: 0.7556 - val_loss: 0.6451 - val_acc: 0.7709\n",
            "Epoch 34/80\n",
            "625/625 [==============================] - 466s 746ms/step - loss: 0.6907 - acc: 0.7565 - val_loss: 0.6376 - val_acc: 0.7737\n",
            "Epoch 35/80\n",
            "625/625 [==============================] - 464s 742ms/step - loss: 0.6831 - acc: 0.7618 - val_loss: 0.7271 - val_acc: 0.7506\n",
            "Epoch 36/80\n",
            "625/625 [==============================] - 461s 737ms/step - loss: 0.6743 - acc: 0.7638 - val_loss: 0.6416 - val_acc: 0.7787\n",
            "Epoch 37/80\n",
            "625/625 [==============================] - 466s 745ms/step - loss: 0.6756 - acc: 0.7634 - val_loss: 0.6215 - val_acc: 0.7816\n",
            "Epoch 38/80\n",
            "625/625 [==============================] - 466s 746ms/step - loss: 0.6670 - acc: 0.7677 - val_loss: 0.7270 - val_acc: 0.7522\n",
            "Epoch 39/80\n",
            "625/625 [==============================] - 465s 743ms/step - loss: 0.6539 - acc: 0.7695 - val_loss: 0.6749 - val_acc: 0.7648\n",
            "Epoch 40/80\n",
            "625/625 [==============================] - 462s 740ms/step - loss: 0.6493 - acc: 0.7716 - val_loss: 0.6090 - val_acc: 0.7850\n",
            "Epoch 41/80\n",
            "625/625 [==============================] - 466s 746ms/step - loss: 0.6466 - acc: 0.7752 - val_loss: 0.5944 - val_acc: 0.7907\n",
            "Epoch 42/80\n",
            "625/625 [==============================] - 465s 745ms/step - loss: 0.6449 - acc: 0.7747 - val_loss: 0.6058 - val_acc: 0.7879\n",
            "Epoch 43/80\n",
            "625/625 [==============================] - 466s 746ms/step - loss: 0.6333 - acc: 0.7787 - val_loss: 0.6448 - val_acc: 0.7770\n",
            "Epoch 44/80\n",
            "625/625 [==============================] - 464s 743ms/step - loss: 0.6215 - acc: 0.7837 - val_loss: 0.6315 - val_acc: 0.7791\n",
            "Epoch 45/80\n",
            "625/625 [==============================] - 469s 750ms/step - loss: 0.6255 - acc: 0.7810 - val_loss: 0.6363 - val_acc: 0.7718\n",
            "Epoch 46/80\n",
            "625/625 [==============================] - 467s 747ms/step - loss: 0.6140 - acc: 0.7858 - val_loss: 0.5803 - val_acc: 0.7963\n",
            "Epoch 47/80\n",
            "625/625 [==============================] - 464s 742ms/step - loss: 0.6091 - acc: 0.7867 - val_loss: 0.5908 - val_acc: 0.7915\n",
            "Epoch 48/80\n",
            "625/625 [==============================] - 461s 737ms/step - loss: 0.6105 - acc: 0.7872 - val_loss: 0.5916 - val_acc: 0.7935\n",
            "Epoch 49/80\n",
            "625/625 [==============================] - 465s 744ms/step - loss: 0.6045 - acc: 0.7898 - val_loss: 0.5628 - val_acc: 0.8026\n",
            "Epoch 50/80\n",
            "625/625 [==============================] - 467s 747ms/step - loss: 0.6014 - acc: 0.7902 - val_loss: 0.6220 - val_acc: 0.7874\n",
            "Epoch 51/80\n",
            "625/625 [==============================] - 464s 742ms/step - loss: 0.5972 - acc: 0.7906 - val_loss: 0.5601 - val_acc: 0.8011\n",
            "Epoch 52/80\n",
            "625/625 [==============================] - 464s 742ms/step - loss: 0.5940 - acc: 0.7901 - val_loss: 0.5565 - val_acc: 0.8039\n",
            "Epoch 53/80\n",
            "625/625 [==============================] - 468s 748ms/step - loss: 0.5829 - acc: 0.7962 - val_loss: 0.5666 - val_acc: 0.8032\n",
            "Epoch 54/80\n",
            "625/625 [==============================] - 467s 747ms/step - loss: 0.5728 - acc: 0.8008 - val_loss: 0.5974 - val_acc: 0.7913\n",
            "Epoch 55/80\n",
            "625/625 [==============================] - 464s 743ms/step - loss: 0.5792 - acc: 0.7977 - val_loss: 0.5685 - val_acc: 0.8019\n",
            "Epoch 56/80\n",
            "625/625 [==============================] - 465s 745ms/step - loss: 0.5774 - acc: 0.8009 - val_loss: 0.6214 - val_acc: 0.7847\n",
            "Epoch 57/80\n",
            "625/625 [==============================] - 467s 747ms/step - loss: 0.5630 - acc: 0.8022 - val_loss: 0.5927 - val_acc: 0.7945\n",
            "Epoch 58/80\n",
            "625/625 [==============================] - 467s 748ms/step - loss: 0.5629 - acc: 0.8040 - val_loss: 0.5755 - val_acc: 0.7990\n",
            "Epoch 59/80\n",
            "625/625 [==============================] - 464s 742ms/step - loss: 0.5516 - acc: 0.8069 - val_loss: 0.5906 - val_acc: 0.7973\n",
            "Epoch 60/80\n",
            "625/625 [==============================] - 465s 745ms/step - loss: 0.5533 - acc: 0.8072 - val_loss: 0.5674 - val_acc: 0.8028\n",
            "Epoch 61/80\n",
            "625/625 [==============================] - 467s 747ms/step - loss: 0.5520 - acc: 0.8084 - val_loss: 0.5571 - val_acc: 0.8056\n",
            "Epoch 62/80\n",
            "625/625 [==============================] - 465s 744ms/step - loss: 0.5467 - acc: 0.8087 - val_loss: 0.5554 - val_acc: 0.8042\n",
            "Epoch 63/80\n",
            "625/625 [==============================] - 463s 741ms/step - loss: 0.5467 - acc: 0.8089 - val_loss: 0.5703 - val_acc: 0.8005\n",
            "Epoch 64/80\n",
            "625/625 [==============================] - 465s 744ms/step - loss: 0.5410 - acc: 0.8110 - val_loss: 0.6013 - val_acc: 0.7941\n",
            "Epoch 65/80\n",
            "625/625 [==============================] - 468s 749ms/step - loss: 0.5366 - acc: 0.8130 - val_loss: 0.5263 - val_acc: 0.8144\n",
            "Epoch 66/80\n",
            "625/625 [==============================] - 469s 751ms/step - loss: 0.5371 - acc: 0.8124 - val_loss: 0.5481 - val_acc: 0.8126\n",
            "Epoch 67/80\n",
            "625/625 [==============================] - 467s 747ms/step - loss: 0.5341 - acc: 0.8125 - val_loss: 0.5263 - val_acc: 0.8170\n",
            "Epoch 68/80\n",
            "625/625 [==============================] - 477s 763ms/step - loss: 0.5271 - acc: 0.8165 - val_loss: 0.6009 - val_acc: 0.7920\n",
            "Epoch 69/80\n",
            "625/625 [==============================] - 471s 753ms/step - loss: 0.5256 - acc: 0.8151 - val_loss: 0.5305 - val_acc: 0.8146\n",
            "Epoch 70/80\n",
            "625/625 [==============================] - 469s 751ms/step - loss: 0.5205 - acc: 0.8184 - val_loss: 0.4897 - val_acc: 0.8287\n",
            "Epoch 71/80\n",
            "625/625 [==============================] - 470s 752ms/step - loss: 0.5185 - acc: 0.8187 - val_loss: 0.5114 - val_acc: 0.8226\n",
            "Epoch 72/80\n",
            "625/625 [==============================] - 468s 749ms/step - loss: 0.5112 - acc: 0.8194 - val_loss: 0.5302 - val_acc: 0.8143\n",
            "Epoch 73/80\n",
            "625/625 [==============================] - 469s 751ms/step - loss: 0.5092 - acc: 0.8221 - val_loss: 0.5853 - val_acc: 0.8028\n",
            "Epoch 74/80\n",
            "625/625 [==============================] - 468s 749ms/step - loss: 0.5062 - acc: 0.8210 - val_loss: 0.5171 - val_acc: 0.8213\n",
            "Epoch 75/80\n",
            "625/625 [==============================] - 461s 737ms/step - loss: 0.5108 - acc: 0.8214 - val_loss: 0.4939 - val_acc: 0.8281\n",
            "Epoch 76/80\n",
            "625/625 [==============================] - 466s 745ms/step - loss: 0.5001 - acc: 0.8239 - val_loss: 0.4928 - val_acc: 0.8247\n",
            "Epoch 77/80\n",
            "625/625 [==============================] - 467s 746ms/step - loss: 0.4995 - acc: 0.8245 - val_loss: 0.5132 - val_acc: 0.8210\n",
            "Epoch 78/80\n",
            "625/625 [==============================] - 463s 742ms/step - loss: 0.4976 - acc: 0.8262 - val_loss: 0.4880 - val_acc: 0.8303\n",
            "Epoch 79/80\n",
            "625/625 [==============================] - 461s 738ms/step - loss: 0.4958 - acc: 0.8280 - val_loss: 0.5073 - val_acc: 0.8240\n",
            "Epoch 80/80\n",
            "625/625 [==============================] - 464s 743ms/step - loss: 0.4888 - acc: 0.8313 - val_loss: 0.5256 - val_acc: 0.8172\n",
            "> 81.720\n"
          ],
          "name": "stdout"
        },
        {
          "output_type": "execute_result",
          "data": {
            "text/plain": [
              "0.8172"
            ]
          },
          "metadata": {
            "tags": []
          },
          "execution_count": 8
        },
        {
          "output_type": "display_data",
          "data": {
            "image/png": "[encoded data removed]",
            "text/plain": [
              "<Figure size 432x288 with 2 Axes>"
            ]
          },
          "metadata": {
            "tags": []
          }
        }
      ]
    },
    {
      "cell_type": "code",
      "metadata": {
        "id": "3_QuCAAZzmOj",
        "colab_type": "code",
        "colab": {}
      },
      "source": [
        ""
      ],
      "execution_count": 0,
      "outputs": []
    },
    {
      "cell_type": "code",
      "metadata": {
        "id": "JNUsGjuBzmRc",
        "colab_type": "code",
        "colab": {}
      },
      "source": [
        ""
      ],
      "execution_count": 0,
      "outputs": []
    },
    {
      "cell_type": "code",
      "metadata": {
        "id": "VhSQH1azzmT0",
        "colab_type": "code",
        "colab": {}
      },
      "source": [
        ""
      ],
      "execution_count": 0,
      "outputs": []
    }
  ]
}