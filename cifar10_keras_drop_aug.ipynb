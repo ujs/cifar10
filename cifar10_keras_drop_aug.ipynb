{
  "nbformat": 4,
  "nbformat_minor": 0,
  "metadata": {
    "colab": {
      "name": "cifar10_keras_drop_aug.ipynb",
      "provenance": [],
      "authorship_tag": "ABX9TyNAOG1Gam9hWMjrt91WAjIV",
      "include_colab_link": true
    },
    "kernelspec": {
      "name": "python3",
      "display_name": "Python 3"
    }
  },
  "cells": [
    {
      "cell_type": "markdown",
      "metadata": {
        "id": "view-in-github",
        "colab_type": "text"
      },
      "source": [
        "<a href=\"https://colab.research.google.com/github/ujs/cifar10/blob/master/cifar10_keras_drop_aug.ipynb\" target=\"_parent\"><img src=\"https://colab.research.google.com/assets/colab-badge.svg\" alt=\"Open In Colab\"/></a>"
      ]
    },
    {
      "cell_type": "markdown",
      "metadata": {
        "id": "CPQoXbg-yvKG",
        "colab_type": "text"
      },
      "source": [
        "*   model4- Baseline + Dropout + Data Augmentation"
      ]
    },
    {
      "cell_type": "code",
      "metadata": {
        "id": "57C5lojvy7E5",
        "colab_type": "code",
        "outputId": "3089c973-511f-4972-a745-b749c1b391df",
        "colab": {
          "base_uri": "https://localhost:8080/",
          "height": 508
        }
      },
      "source": [
        "#Importing libraries\n",
        "from matplotlib import pyplot as plt\n",
        "import pandas as pd\n",
        "from keras import layers\n",
        "from keras import models\n",
        "from keras.utils import to_categorical\n",
        "from keras.preprocessing.image import ImageDataGenerator\n",
        "from sklearn.model_selection import train_test_split\n",
        "from keras.optimizers import SGD\n",
        "from keras import regularizers"
      ],
      "execution_count": 0,
      "outputs": [
        {
          "output_type": "stream",
          "text": [
            "Using TensorFlow backend.\n",
            "/usr/local/lib/python3.6/dist-packages/tensorflow/python/framework/dtypes.py:516: FutureWarning: Passing (type, 1) or '1type' as a synonym of type is deprecated; in a future version of numpy, it will be understood as (type, (1,)) / '(1,)type'.\n",
            "  _np_qint8 = np.dtype([(\"qint8\", np.int8, 1)])\n",
            "/usr/local/lib/python3.6/dist-packages/tensorflow/python/framework/dtypes.py:517: FutureWarning: Passing (type, 1) or '1type' as a synonym of type is deprecated; in a future version of numpy, it will be understood as (type, (1,)) / '(1,)type'.\n",
            "  _np_quint8 = np.dtype([(\"quint8\", np.uint8, 1)])\n",
            "/usr/local/lib/python3.6/dist-packages/tensorflow/python/framework/dtypes.py:518: FutureWarning: Passing (type, 1) or '1type' as a synonym of type is deprecated; in a future version of numpy, it will be understood as (type, (1,)) / '(1,)type'.\n",
            "  _np_qint16 = np.dtype([(\"qint16\", np.int16, 1)])\n",
            "/usr/local/lib/python3.6/dist-packages/tensorflow/python/framework/dtypes.py:519: FutureWarning: Passing (type, 1) or '1type' as a synonym of type is deprecated; in a future version of numpy, it will be understood as (type, (1,)) / '(1,)type'.\n",
            "  _np_quint16 = np.dtype([(\"quint16\", np.uint16, 1)])\n",
            "/usr/local/lib/python3.6/dist-packages/tensorflow/python/framework/dtypes.py:520: FutureWarning: Passing (type, 1) or '1type' as a synonym of type is deprecated; in a future version of numpy, it will be understood as (type, (1,)) / '(1,)type'.\n",
            "  _np_qint32 = np.dtype([(\"qint32\", np.int32, 1)])\n",
            "/usr/local/lib/python3.6/dist-packages/tensorflow/python/framework/dtypes.py:525: FutureWarning: Passing (type, 1) or '1type' as a synonym of type is deprecated; in a future version of numpy, it will be understood as (type, (1,)) / '(1,)type'.\n",
            "  np_resource = np.dtype([(\"resource\", np.ubyte, 1)])\n",
            "/usr/local/lib/python3.6/dist-packages/tensorboard/compat/tensorflow_stub/dtypes.py:541: FutureWarning: Passing (type, 1) or '1type' as a synonym of type is deprecated; in a future version of numpy, it will be understood as (type, (1,)) / '(1,)type'.\n",
            "  _np_qint8 = np.dtype([(\"qint8\", np.int8, 1)])\n",
            "/usr/local/lib/python3.6/dist-packages/tensorboard/compat/tensorflow_stub/dtypes.py:542: FutureWarning: Passing (type, 1) or '1type' as a synonym of type is deprecated; in a future version of numpy, it will be understood as (type, (1,)) / '(1,)type'.\n",
            "  _np_quint8 = np.dtype([(\"quint8\", np.uint8, 1)])\n",
            "/usr/local/lib/python3.6/dist-packages/tensorboard/compat/tensorflow_stub/dtypes.py:543: FutureWarning: Passing (type, 1) or '1type' as a synonym of type is deprecated; in a future version of numpy, it will be understood as (type, (1,)) / '(1,)type'.\n",
            "  _np_qint16 = np.dtype([(\"qint16\", np.int16, 1)])\n",
            "/usr/local/lib/python3.6/dist-packages/tensorboard/compat/tensorflow_stub/dtypes.py:544: FutureWarning: Passing (type, 1) or '1type' as a synonym of type is deprecated; in a future version of numpy, it will be understood as (type, (1,)) / '(1,)type'.\n",
            "  _np_quint16 = np.dtype([(\"quint16\", np.uint16, 1)])\n",
            "/usr/local/lib/python3.6/dist-packages/tensorboard/compat/tensorflow_stub/dtypes.py:545: FutureWarning: Passing (type, 1) or '1type' as a synonym of type is deprecated; in a future version of numpy, it will be understood as (type, (1,)) / '(1,)type'.\n",
            "  _np_qint32 = np.dtype([(\"qint32\", np.int32, 1)])\n",
            "/usr/local/lib/python3.6/dist-packages/tensorboard/compat/tensorflow_stub/dtypes.py:550: FutureWarning: Passing (type, 1) or '1type' as a synonym of type is deprecated; in a future version of numpy, it will be understood as (type, (1,)) / '(1,)type'.\n",
            "  np_resource = np.dtype([(\"resource\", np.ubyte, 1)])\n"
          ],
          "name": "stderr"
        },
        {
          "output_type": "display_data",
          "data": {
            "text/html": [
              "<p style=\"color: red;\">\n",
              "The default version of TensorFlow in Colab will switch to TensorFlow 2.x on the 27th of March, 2020.<br>\n",
              "We recommend you <a href=\"https://www.tensorflow.org/guide/migrate\" target=\"_blank\">upgrade</a> now\n",
              "or ensure your notebook will continue to use TensorFlow 1.x via the <code>%tensorflow_version 1.x</code> magic:\n",
              "<a href=\"https://colab.research.google.com/notebooks/tensorflow_version.ipynb\" target=\"_blank\">more info</a>.</p>\n"
            ],
            "text/plain": [
              "<IPython.core.display.HTML object>"
            ]
          },
          "metadata": {
            "tags": []
          }
        }
      ]
    },
    {
      "cell_type": "code",
      "metadata": {
        "id": "t9taA9kfy7NB",
        "colab_type": "code",
        "colab": {}
      },
      "source": [
        "\n",
        "#importing data\n",
        "from keras.datasets import cifar10\n",
        "\n",
        "#load data\n",
        "(x, y),(x_test, y_test) = cifar10.load_data()"
      ],
      "execution_count": 0,
      "outputs": []
    },
    {
      "cell_type": "code",
      "metadata": {
        "id": "WhFODT-_zE14",
        "colab_type": "code",
        "outputId": "30fc490b-2f1a-438b-a5df-43387eb5579d",
        "colab": {
          "base_uri": "https://localhost:8080/",
          "height": 85
        }
      },
      "source": [
        "#examine shape of data\n",
        "print (x.shape)\n",
        "print (x_test.shape)\n",
        "print (y.shape)\n",
        "print (y_test.shape)"
      ],
      "execution_count": 0,
      "outputs": [
        {
          "output_type": "stream",
          "text": [
            "(50000, 32, 32, 3)\n",
            "(10000, 32, 32, 3)\n",
            "(50000, 1)\n",
            "(10000, 1)\n"
          ],
          "name": "stdout"
        }
      ]
    },
    {
      "cell_type": "code",
      "metadata": {
        "id": "pKJ6N_sXzE5z",
        "colab_type": "code",
        "outputId": "163fb08b-9bc2-407c-c950-ab4869ca2c62",
        "colab": {
          "base_uri": "https://localhost:8080/",
          "height": 51
        }
      },
      "source": [
        "#Splitting x,y data into train and validation data\n",
        "x_train, x_val, y_train, y_val = train_test_split(x, y, test_size=0.2, random_state=1)\n",
        "\n",
        "print(x_train.shape)\n",
        "print(x_val.shape)"
      ],
      "execution_count": 0,
      "outputs": [
        {
          "output_type": "stream",
          "text": [
            "(40000, 32, 32, 3)\n",
            "(10000, 32, 32, 3)\n"
          ],
          "name": "stdout"
        }
      ]
    },
    {
      "cell_type": "code",
      "metadata": {
        "id": "CqoA7vTEzE-A",
        "colab_type": "code",
        "colab": {}
      },
      "source": [
        "#Data Preprocessing\n",
        "\n",
        "#one-hot encode target values\n",
        "y_train = to_categorical(y_train)\n",
        "y_val = to_categorical(y_val)\n",
        "y_test = to_categorical(y_test)\n",
        "\n",
        "\n",
        "#Rescaling images \n",
        "\n",
        "train_datagen = ImageDataGenerator (rescale = 1./255)\n",
        "val_datagen = ImageDataGenerator (rescale = 1./255)\n",
        "test_datagen = ImageDataGenerator (rescale = 1./255)\n",
        "\n",
        "train_generator = train_datagen.flow(x_train, y_train,batch_size = 64)\n",
        "val_generator = val_datagen.flow(x_val, y_val)\n"
      ],
      "execution_count": 0,
      "outputs": []
    },
    {
      "cell_type": "code",
      "metadata": {
        "id": "b2PD1npoy7P1",
        "colab_type": "code",
        "colab": {}
      },
      "source": [
        "def test_model(model):\n",
        "  #Instantiate model\n",
        "  model = model()\n",
        "\n",
        "  #fit model\n",
        "  steps = x_train.shape[0]/64\n",
        "  history = model.fit_generator(train_generator, steps_per_epoch = steps, epochs = 80, validation_data = val_generator)\n",
        "  model.save('cifar10_{}'.format(model))\n",
        "\n",
        "  #Plot loss\n",
        "  plt.subplot(211)\n",
        "  plt.title('cross-entropy loss')\n",
        "  plt.plot(history.history['loss'],color = 'blue', label = 'train')\n",
        "  plt.plot(history.history['val_loss'], color = 'red', label = 'validation')\n",
        "  plt.legend()\n",
        "\n",
        "  #plot accurcay\n",
        "  plt.subplot(212)\n",
        "  plt.title('accuracy')\n",
        "  plt.plot(history.history['acc'],color = 'blue', label = 'train')\n",
        "  plt.plot(history.history['val_acc'], color = 'red', label = 'validation')\n",
        "  plt.legend()\n",
        "\n",
        "  # evaluate model\n",
        "  _, acc = model.evaluate(val_generator, verbose=0)\n",
        "  print('> %.3f' % (acc * 100.0))\n",
        "  return acc"
      ],
      "execution_count": 0,
      "outputs": []
    },
    {
      "cell_type": "code",
      "metadata": {
        "id": "4bDZbBTZy7TN",
        "colab_type": "code",
        "outputId": "9209c118-5db3-4665-862e-b47eb613ed23",
        "colab": {
          "base_uri": "https://localhost:8080/",
          "height": 1000
        }
      },
      "source": [
        "#model4- Baseline + Dropout + Data Augmentation\n",
        "def model4():\n",
        "  model = models.Sequential()\n",
        "  model.add(layers.Conv2D(32, (3, 3), activation ='relu', kernel_initializer='he_uniform', padding = 'same', input_shape=(32, 32, 3)))\n",
        "  model.add(layers.Conv2D(32, (3, 3), activation='relu', kernel_initializer='he_uniform', padding = 'same'))\n",
        "  model.add(layers.MaxPooling2D((2, 2)))\n",
        "  model.add(layers.Dropout(0.2))\n",
        "  model.add(layers.Conv2D(64, (3, 3), activation='relu', kernel_initializer='he_uniform', padding = 'same'))\n",
        "  model.add(layers.Conv2D(64, (3, 3), activation='relu', kernel_initializer='he_uniform', padding = 'same'))\n",
        "  model.add(layers.MaxPooling2D((2, 2)))\n",
        "  model.add(layers.Dropout(0.2))\n",
        "  model.add(layers.Conv2D(128, (3, 3), activation='relu', kernel_initializer='he_uniform', padding = 'same'))\n",
        "  model.add(layers.Conv2D(128, (3, 3), activation='relu', kernel_initializer='he_uniform', padding = 'same'))\n",
        "  model.add(layers.MaxPooling2D((2, 2)))\n",
        "  model.add(layers.Dropout(0.2))\n",
        "  model.add(layers.Flatten())\n",
        "  model.add(layers.Dense(128, activation='relu', kernel_initializer='he_uniform'))\n",
        "  model.add(layers.Dropout(0.2))\n",
        "  model.add(layers.Dense(10, activation='softmax'))\n",
        "  # compile model\n",
        "  opt = SGD(lr=0.001, momentum=0.9)\n",
        "  model.compile(optimizer=opt, loss='categorical_crossentropy', metrics=['accuracy'])\n",
        "  return model\n",
        "\n",
        "#data augmentation\n",
        "train_datagen = ImageDataGenerator (rescale = 1./255, width_shift_range=0.1, height_shift_range=0.1, horizontal_flip = True)\n",
        "train_generator = train_datagen.flow(x_train, y_train,batch_size = 64)\n",
        "\n",
        "#testing\n",
        "test_model(model4)\n"
      ],
      "execution_count": 0,
      "outputs": [
        {
          "output_type": "stream",
          "text": [
            "WARNING:tensorflow:From /usr/local/lib/python3.6/dist-packages/keras/backend/tensorflow_backend.py:66: The name tf.get_default_graph is deprecated. Please use tf.compat.v1.get_default_graph instead.\n",
            "\n",
            "WARNING:tensorflow:From /usr/local/lib/python3.6/dist-packages/keras/backend/tensorflow_backend.py:541: The name tf.placeholder is deprecated. Please use tf.compat.v1.placeholder instead.\n",
            "\n",
            "WARNING:tensorflow:From /usr/local/lib/python3.6/dist-packages/keras/backend/tensorflow_backend.py:4432: The name tf.random_uniform is deprecated. Please use tf.random.uniform instead.\n",
            "\n",
            "WARNING:tensorflow:From /usr/local/lib/python3.6/dist-packages/keras/backend/tensorflow_backend.py:4267: The name tf.nn.max_pool is deprecated. Please use tf.nn.max_pool2d instead.\n",
            "\n",
            "WARNING:tensorflow:From /usr/local/lib/python3.6/dist-packages/keras/backend/tensorflow_backend.py:148: The name tf.placeholder_with_default is deprecated. Please use tf.compat.v1.placeholder_with_default instead.\n",
            "\n",
            "WARNING:tensorflow:From /usr/local/lib/python3.6/dist-packages/keras/backend/tensorflow_backend.py:3733: calling dropout (from tensorflow.python.ops.nn_ops) with keep_prob is deprecated and will be removed in a future version.\n",
            "Instructions for updating:\n",
            "Please use `rate` instead of `keep_prob`. Rate should be set to `rate = 1 - keep_prob`.\n",
            "WARNING:tensorflow:From /usr/local/lib/python3.6/dist-packages/keras/optimizers.py:793: The name tf.train.Optimizer is deprecated. Please use tf.compat.v1.train.Optimizer instead.\n",
            "\n",
            "WARNING:tensorflow:From /usr/local/lib/python3.6/dist-packages/keras/backend/tensorflow_backend.py:3576: The name tf.log is deprecated. Please use tf.math.log instead.\n",
            "\n",
            "WARNING:tensorflow:From /usr/local/lib/python3.6/dist-packages/tensorflow/python/ops/math_grad.py:1250: add_dispatch_support.<locals>.wrapper (from tensorflow.python.ops.array_ops) is deprecated and will be removed in a future version.\n",
            "Instructions for updating:\n",
            "Use tf.where in 2.0, which has the same broadcast rule as np.where\n",
            "Epoch 1/80\n",
            "625/625 [==============================] - 322s 515ms/step - loss: 2.1019 - acc: 0.2179 - val_loss: 1.8424 - val_acc: 0.3225\n",
            "Epoch 2/80\n",
            "625/625 [==============================] - 326s 522ms/step - loss: 1.8148 - acc: 0.3267 - val_loss: 1.6421 - val_acc: 0.3925\n",
            "Epoch 3/80\n",
            "625/625 [==============================] - 329s 526ms/step - loss: 1.6724 - acc: 0.3826 - val_loss: 1.4997 - val_acc: 0.4472\n",
            "Epoch 4/80\n",
            "625/625 [==============================] - 327s 523ms/step - loss: 1.5874 - acc: 0.4131 - val_loss: 1.4246 - val_acc: 0.4790\n",
            "Epoch 5/80\n",
            "625/625 [==============================] - 326s 522ms/step - loss: 1.5222 - acc: 0.4417 - val_loss: 1.3449 - val_acc: 0.5148\n",
            "Epoch 6/80\n",
            "625/625 [==============================] - 326s 522ms/step - loss: 1.4726 - acc: 0.4622 - val_loss: 1.3457 - val_acc: 0.5056\n",
            "Epoch 7/80\n",
            "625/625 [==============================] - 327s 523ms/step - loss: 1.4216 - acc: 0.4789 - val_loss: 1.2705 - val_acc: 0.5396\n",
            "Epoch 8/80\n",
            "625/625 [==============================] - 330s 529ms/step - loss: 1.3937 - acc: 0.4934 - val_loss: 1.2230 - val_acc: 0.5635\n",
            "Epoch 9/80\n",
            "625/625 [==============================] - 329s 526ms/step - loss: 1.3487 - acc: 0.5103 - val_loss: 1.3603 - val_acc: 0.5115\n",
            "Epoch 10/80\n",
            "625/625 [==============================] - 327s 523ms/step - loss: 1.3161 - acc: 0.5242 - val_loss: 1.2301 - val_acc: 0.5510\n",
            "Epoch 11/80\n",
            "625/625 [==============================] - 327s 523ms/step - loss: 1.2846 - acc: 0.5384 - val_loss: 1.1372 - val_acc: 0.5951\n",
            "Epoch 12/80\n",
            "625/625 [==============================] - 325s 520ms/step - loss: 1.2482 - acc: 0.5500 - val_loss: 1.2105 - val_acc: 0.5706\n",
            "Epoch 13/80\n",
            "625/625 [==============================] - 327s 523ms/step - loss: 1.2166 - acc: 0.5658 - val_loss: 1.1325 - val_acc: 0.5922\n",
            "Epoch 14/80\n",
            "625/625 [==============================] - 330s 528ms/step - loss: 1.1860 - acc: 0.5738 - val_loss: 1.0299 - val_acc: 0.6334\n",
            "Epoch 15/80\n",
            "625/625 [==============================] - 325s 521ms/step - loss: 1.1617 - acc: 0.5855 - val_loss: 1.0601 - val_acc: 0.6232\n",
            "Epoch 16/80\n",
            "625/625 [==============================] - 324s 519ms/step - loss: 1.1373 - acc: 0.5944 - val_loss: 0.9811 - val_acc: 0.6499\n",
            "Epoch 17/80\n",
            "625/625 [==============================] - 325s 521ms/step - loss: 1.1090 - acc: 0.6032 - val_loss: 1.0106 - val_acc: 0.6417\n",
            "Epoch 18/80\n",
            "625/625 [==============================] - 325s 520ms/step - loss: 1.0931 - acc: 0.6120 - val_loss: 0.9421 - val_acc: 0.6641\n",
            "Epoch 19/80\n",
            "625/625 [==============================] - 326s 522ms/step - loss: 1.0671 - acc: 0.6202 - val_loss: 0.9516 - val_acc: 0.6597\n",
            "Epoch 20/80\n",
            "625/625 [==============================] - 326s 521ms/step - loss: 1.0516 - acc: 0.6276 - val_loss: 0.9261 - val_acc: 0.6706\n",
            "Epoch 21/80\n",
            "625/625 [==============================] - 325s 520ms/step - loss: 1.0333 - acc: 0.6331 - val_loss: 0.9253 - val_acc: 0.6717\n",
            "Epoch 22/80\n",
            "625/625 [==============================] - 324s 519ms/step - loss: 1.0093 - acc: 0.6406 - val_loss: 0.8809 - val_acc: 0.6857\n",
            "Epoch 23/80\n",
            "625/625 [==============================] - 326s 522ms/step - loss: 0.9945 - acc: 0.6470 - val_loss: 0.8647 - val_acc: 0.6936\n",
            "Epoch 24/80\n",
            "625/625 [==============================] - 326s 521ms/step - loss: 0.9747 - acc: 0.6535 - val_loss: 0.9369 - val_acc: 0.6743\n",
            "Epoch 25/80\n",
            "625/625 [==============================] - 327s 523ms/step - loss: 0.9646 - acc: 0.6573 - val_loss: 0.8386 - val_acc: 0.7002\n",
            "Epoch 26/80\n",
            "625/625 [==============================] - 327s 523ms/step - loss: 0.9440 - acc: 0.6671 - val_loss: 0.8282 - val_acc: 0.7089\n",
            "Epoch 27/80\n",
            "625/625 [==============================] - 327s 523ms/step - loss: 0.9240 - acc: 0.6716 - val_loss: 0.8028 - val_acc: 0.7122\n",
            "Epoch 28/80\n",
            "625/625 [==============================] - 327s 524ms/step - loss: 0.9221 - acc: 0.6757 - val_loss: 0.8591 - val_acc: 0.7010\n",
            "Epoch 29/80\n",
            "625/625 [==============================] - 325s 520ms/step - loss: 0.9095 - acc: 0.6782 - val_loss: 0.8059 - val_acc: 0.7212\n",
            "Epoch 30/80\n",
            "625/625 [==============================] - 326s 522ms/step - loss: 0.8884 - acc: 0.6888 - val_loss: 0.7861 - val_acc: 0.7225\n",
            "Epoch 31/80\n",
            "625/625 [==============================] - 327s 523ms/step - loss: 0.8722 - acc: 0.6906 - val_loss: 0.7783 - val_acc: 0.7249\n",
            "Epoch 32/80\n",
            "625/625 [==============================] - 327s 523ms/step - loss: 0.8660 - acc: 0.6961 - val_loss: 0.7407 - val_acc: 0.7405\n",
            "Epoch 33/80\n",
            "625/625 [==============================] - 328s 524ms/step - loss: 0.8544 - acc: 0.6974 - val_loss: 0.7379 - val_acc: 0.7357\n",
            "Epoch 34/80\n",
            "625/625 [==============================] - 327s 523ms/step - loss: 0.8425 - acc: 0.7071 - val_loss: 0.7486 - val_acc: 0.7366\n",
            "Epoch 35/80\n",
            "625/625 [==============================] - 327s 523ms/step - loss: 0.8216 - acc: 0.7110 - val_loss: 0.7161 - val_acc: 0.7457\n",
            "Epoch 36/80\n",
            "625/625 [==============================] - 329s 526ms/step - loss: 0.8198 - acc: 0.7107 - val_loss: 0.7500 - val_acc: 0.7357\n",
            "Epoch 37/80\n",
            "625/625 [==============================] - 327s 523ms/step - loss: 0.8138 - acc: 0.7155 - val_loss: 0.7232 - val_acc: 0.7437\n",
            "Epoch 38/80\n",
            "625/625 [==============================] - 326s 522ms/step - loss: 0.8022 - acc: 0.7181 - val_loss: 0.7662 - val_acc: 0.7358\n",
            "Epoch 39/80\n",
            "625/625 [==============================] - 326s 522ms/step - loss: 0.7960 - acc: 0.7201 - val_loss: 0.7205 - val_acc: 0.7445\n",
            "Epoch 40/80\n",
            "625/625 [==============================] - 327s 523ms/step - loss: 0.7778 - acc: 0.7269 - val_loss: 0.7306 - val_acc: 0.7446\n",
            "Epoch 41/80\n",
            "625/625 [==============================] - 329s 526ms/step - loss: 0.7723 - acc: 0.7297 - val_loss: 0.6862 - val_acc: 0.7615\n",
            "Epoch 42/80\n",
            "625/625 [==============================] - 327s 524ms/step - loss: 0.7669 - acc: 0.7305 - val_loss: 0.7062 - val_acc: 0.7480\n",
            "Epoch 43/80\n",
            "625/625 [==============================] - 327s 524ms/step - loss: 0.7606 - acc: 0.7332 - val_loss: 0.6998 - val_acc: 0.7553\n",
            "Epoch 44/80\n",
            "625/625 [==============================] - 328s 525ms/step - loss: 0.7551 - acc: 0.7374 - val_loss: 0.7105 - val_acc: 0.7496\n",
            "Epoch 45/80\n",
            "625/625 [==============================] - 328s 525ms/step - loss: 0.7494 - acc: 0.7394 - val_loss: 0.6748 - val_acc: 0.7609\n",
            "Epoch 46/80\n",
            "625/625 [==============================] - 329s 526ms/step - loss: 0.7423 - acc: 0.7380 - val_loss: 0.6811 - val_acc: 0.7564\n",
            "Epoch 47/80\n",
            "625/625 [==============================] - 329s 527ms/step - loss: 0.7302 - acc: 0.7443 - val_loss: 0.6487 - val_acc: 0.7706\n",
            "Epoch 48/80\n",
            "625/625 [==============================] - 327s 524ms/step - loss: 0.7212 - acc: 0.7446 - val_loss: 0.6386 - val_acc: 0.7714\n",
            "Epoch 49/80\n",
            "625/625 [==============================] - 328s 524ms/step - loss: 0.7176 - acc: 0.7484 - val_loss: 0.6598 - val_acc: 0.7717\n",
            "Epoch 50/80\n",
            "625/625 [==============================] - 326s 522ms/step - loss: 0.7126 - acc: 0.7508 - val_loss: 0.6380 - val_acc: 0.7774\n",
            "Epoch 51/80\n",
            "625/625 [==============================] - 327s 524ms/step - loss: 0.7076 - acc: 0.7530 - val_loss: 0.6408 - val_acc: 0.7761\n",
            "Epoch 52/80\n",
            "625/625 [==============================] - 328s 525ms/step - loss: 0.6944 - acc: 0.7575 - val_loss: 0.6787 - val_acc: 0.7663\n",
            "Epoch 53/80\n",
            "625/625 [==============================] - 327s 524ms/step - loss: 0.6900 - acc: 0.7578 - val_loss: 0.6367 - val_acc: 0.7738\n",
            "Epoch 54/80\n",
            "625/625 [==============================] - 328s 525ms/step - loss: 0.6883 - acc: 0.7589 - val_loss: 0.6281 - val_acc: 0.7790\n",
            "Epoch 55/80\n",
            "625/625 [==============================] - 327s 523ms/step - loss: 0.6785 - acc: 0.7627 - val_loss: 0.6850 - val_acc: 0.7609\n",
            "Epoch 56/80\n",
            "625/625 [==============================] - 327s 523ms/step - loss: 0.6771 - acc: 0.7624 - val_loss: 0.6264 - val_acc: 0.7812\n",
            "Epoch 57/80\n",
            "625/625 [==============================] - 327s 524ms/step - loss: 0.6729 - acc: 0.7649 - val_loss: 0.6056 - val_acc: 0.7862\n",
            "Epoch 58/80\n",
            "625/625 [==============================] - 329s 526ms/step - loss: 0.6646 - acc: 0.7685 - val_loss: 0.6292 - val_acc: 0.7805\n",
            "Epoch 59/80\n",
            "625/625 [==============================] - 330s 529ms/step - loss: 0.6557 - acc: 0.7710 - val_loss: 0.6635 - val_acc: 0.7708\n",
            "Epoch 60/80\n",
            "625/625 [==============================] - 330s 528ms/step - loss: 0.6522 - acc: 0.7720 - val_loss: 0.5886 - val_acc: 0.7973\n",
            "Epoch 61/80\n",
            "625/625 [==============================] - 328s 525ms/step - loss: 0.6543 - acc: 0.7714 - val_loss: 0.6160 - val_acc: 0.7829\n",
            "Epoch 62/80\n",
            "625/625 [==============================] - 329s 526ms/step - loss: 0.6509 - acc: 0.7717 - val_loss: 0.6331 - val_acc: 0.7804\n",
            "Epoch 63/80\n",
            "625/625 [==============================] - 328s 525ms/step - loss: 0.6367 - acc: 0.7764 - val_loss: 0.5897 - val_acc: 0.7915\n",
            "Epoch 64/80\n",
            "625/625 [==============================] - 329s 526ms/step - loss: 0.6352 - acc: 0.7782 - val_loss: 0.6173 - val_acc: 0.7924\n",
            "Epoch 65/80\n",
            "625/625 [==============================] - 327s 523ms/step - loss: 0.6359 - acc: 0.7781 - val_loss: 0.5574 - val_acc: 0.8029\n",
            "Epoch 66/80\n",
            "625/625 [==============================] - 327s 523ms/step - loss: 0.6304 - acc: 0.7801 - val_loss: 0.6047 - val_acc: 0.7926\n",
            "Epoch 67/80\n",
            "625/625 [==============================] - 326s 521ms/step - loss: 0.6202 - acc: 0.7865 - val_loss: 0.5592 - val_acc: 0.8043\n",
            "Epoch 68/80\n",
            "625/625 [==============================] - 328s 525ms/step - loss: 0.6170 - acc: 0.7837 - val_loss: 0.5864 - val_acc: 0.7971\n",
            "Epoch 69/80\n",
            "625/625 [==============================] - 327s 524ms/step - loss: 0.6169 - acc: 0.7866 - val_loss: 0.6117 - val_acc: 0.7862\n",
            "Epoch 70/80\n",
            "625/625 [==============================] - 326s 521ms/step - loss: 0.6114 - acc: 0.7893 - val_loss: 0.6011 - val_acc: 0.7904\n",
            "Epoch 71/80\n",
            "625/625 [==============================] - 327s 523ms/step - loss: 0.6080 - acc: 0.7889 - val_loss: 0.5545 - val_acc: 0.8060\n",
            "Epoch 72/80\n",
            "625/625 [==============================] - 327s 523ms/step - loss: 0.6072 - acc: 0.7870 - val_loss: 0.5865 - val_acc: 0.7955\n",
            "Epoch 73/80\n",
            "625/625 [==============================] - 326s 522ms/step - loss: 0.6047 - acc: 0.7897 - val_loss: 0.5567 - val_acc: 0.8043\n",
            "Epoch 74/80\n",
            "625/625 [==============================] - 329s 526ms/step - loss: 0.6010 - acc: 0.7883 - val_loss: 0.5942 - val_acc: 0.7935\n",
            "Epoch 75/80\n",
            "625/625 [==============================] - 327s 523ms/step - loss: 0.5924 - acc: 0.7923 - val_loss: 0.5570 - val_acc: 0.8075\n",
            "Epoch 76/80\n",
            "625/625 [==============================] - 327s 523ms/step - loss: 0.5892 - acc: 0.7930 - val_loss: 0.6074 - val_acc: 0.7917\n",
            "Epoch 77/80\n",
            "625/625 [==============================] - 327s 524ms/step - loss: 0.5819 - acc: 0.7977 - val_loss: 0.5714 - val_acc: 0.8027\n",
            "Epoch 78/80\n",
            "625/625 [==============================] - 327s 523ms/step - loss: 0.5876 - acc: 0.7951 - val_loss: 0.5472 - val_acc: 0.8100\n",
            "Epoch 79/80\n",
            "625/625 [==============================] - 327s 523ms/step - loss: 0.5819 - acc: 0.7951 - val_loss: 0.6201 - val_acc: 0.7934\n",
            "Epoch 80/80\n",
            "625/625 [==============================] - 328s 525ms/step - loss: 0.5793 - acc: 0.7969 - val_loss: 0.6163 - val_acc: 0.7894\n",
            "> 78.940\n"
          ],
          "name": "stdout"
        },
        {
          "output_type": "execute_result",
          "data": {
            "text/plain": [
              "0.7894"
            ]
          },
          "metadata": {
            "tags": []
          },
          "execution_count": 7
        },
        {
          "output_type": "display_data",
          "data": {
            "image/png": "[encoded data removed]",
            "text/plain": [
              "<Figure size 432x288 with 2 Axes>"
            ]
          },
          "metadata": {
            "tags": []
          }
        }
      ]
    },
    {
      "cell_type": "code",
      "metadata": {
        "id": "ZWu598jlzjNk",
        "colab_type": "code",
        "colab": {}
      },
      "source": [
        ""
      ],
      "execution_count": 0,
      "outputs": []
    },
    {
      "cell_type": "code",
      "metadata": {
        "id": "82DSA0GnzjQn",
        "colab_type": "code",
        "colab": {}
      },
      "source": [
        ""
      ],
      "execution_count": 0,
      "outputs": []
    },
    {
      "cell_type": "code",
      "metadata": {
        "id": "pXwY4B5LzjXS",
        "colab_type": "code",
        "colab": {}
      },
      "source": [
        ""
      ],
      "execution_count": 0,
      "outputs": []
    }
  ]
}